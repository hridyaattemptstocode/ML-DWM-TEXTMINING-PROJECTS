{
  "nbformat": 4,
  "nbformat_minor": 0,
  "metadata": {
    "colab": {
      "provenance": []
    },
    "kernelspec": {
      "name": "python3",
      "display_name": "Python 3"
    },
    "language_info": {
      "name": "python"
    }
  },
  "cells": [
    {
      "cell_type": "code",
      "execution_count": null,
      "metadata": {
        "id": "hXjivYnTidGL"
      },
      "outputs": [],
      "source": [
        "import numpy as np\n",
        "import pandas as pd\n",
        "import matplotlib.pyplot as plt\n"
      ]
    },
    {
      "cell_type": "code",
      "source": [
        "df=pd.read_csv('/content/drive/MyDrive/Adult - Adult.csv')\n"
      ],
      "metadata": {
        "id": "l6BCtiMBj9z2"
      },
      "execution_count": null,
      "outputs": []
    },
    {
      "cell_type": "code",
      "source": [
        "from google.colab import drive\n",
        "drive.mount('/content/drive')"
      ],
      "metadata": {
        "id": "vgU6tvSXm13F",
        "colab": {
          "base_uri": "https://localhost:8080/"
        },
        "outputId": "7b716078-9488-43a9-bc7a-c5fe0f7dbcb7"
      },
      "execution_count": null,
      "outputs": [
        {
          "output_type": "stream",
          "name": "stdout",
          "text": [
            "Drive already mounted at /content/drive; to attempt to forcibly remount, call drive.mount(\"/content/drive\", force_remount=True).\n"
          ]
        }
      ]
    },
    {
      "cell_type": "code",
      "source": [
        "df.isna().sum()"
      ],
      "metadata": {
        "colab": {
          "base_uri": "https://localhost:8080/"
        },
        "id": "E5vt8w8CkhIF",
        "outputId": "955cba24-2b68-4b5b-8e60-37be7760ed31"
      },
      "execution_count": null,
      "outputs": [
        {
          "output_type": "execute_result",
          "data": {
            "text/plain": [
              "age                 0\n",
              "workclass         198\n",
              "fnlgwt              0\n",
              "education           0\n",
              "education_num       0\n",
              "marital_status      0\n",
              "occupation        199\n",
              "relationship        1\n",
              "race                1\n",
              "sex                 1\n",
              "capital_gain        1\n",
              "capital_loss        1\n",
              "hours_per_week      1\n",
              "native_country     60\n",
              "more_than_50k       1\n",
              "dtype: int64"
            ]
          },
          "metadata": {},
          "execution_count": 4
        }
      ]
    },
    {
      "cell_type": "code",
      "source": [
        "dfnew=df.dropna()"
      ],
      "metadata": {
        "id": "7jlomqsYnU1u"
      },
      "execution_count": null,
      "outputs": []
    },
    {
      "cell_type": "code",
      "source": [
        "dfnew.isna().sum()"
      ],
      "metadata": {
        "colab": {
          "base_uri": "https://localhost:8080/"
        },
        "id": "dlybkS0-oBVG",
        "outputId": "c3df404d-58ac-4bd6-89a9-bd063bbc4e25"
      },
      "execution_count": null,
      "outputs": [
        {
          "output_type": "execute_result",
          "data": {
            "text/plain": [
              "age               0\n",
              "workclass         0\n",
              "fnlgwt            0\n",
              "education         0\n",
              "education_num     0\n",
              "marital_status    0\n",
              "occupation        0\n",
              "relationship      0\n",
              "race              0\n",
              "sex               0\n",
              "capital_gain      0\n",
              "capital_loss      0\n",
              "hours_per_week    0\n",
              "native_country    0\n",
              "more_than_50k     0\n",
              "dtype: int64"
            ]
          },
          "metadata": {},
          "execution_count": 6
        }
      ]
    },
    {
      "cell_type": "code",
      "source": [
        "dup_data = dfnew.duplicated().any()\n",
        "dup_data"
      ],
      "metadata": {
        "colab": {
          "base_uri": "https://localhost:8080/"
        },
        "id": "eyuA_v31S_rf",
        "outputId": "247935ff-1860-4488-f9cf-a5aed1df28fe"
      },
      "execution_count": null,
      "outputs": [
        {
          "output_type": "execute_result",
          "data": {
            "text/plain": [
              "False"
            ]
          },
          "metadata": {},
          "execution_count": 7
        }
      ]
    },
    {
      "cell_type": "code",
      "source": [
        "col_names = ['age', 'workclass', 'fnlwgt', 'education', 'education_num', 'marital_status', 'occupation', 'relationship',\n",
        "             'race', 'sex', 'capital_gain', 'capital_loss', 'hours_per_week', 'native_country', 'income']\n",
        "\n",
        "dfnew.columns = col_names\n",
        "\n",
        "dfnew.columns"
      ],
      "metadata": {
        "colab": {
          "base_uri": "https://localhost:8080/"
        },
        "id": "3jd1x-9rEV00",
        "outputId": "aba7ea7d-8d75-4122-be93-ef80a90f9cd0"
      },
      "execution_count": null,
      "outputs": [
        {
          "output_type": "execute_result",
          "data": {
            "text/plain": [
              "Index(['age', 'workclass', 'fnlwgt', 'education', 'education_num',\n",
              "       'marital_status', 'occupation', 'relationship', 'race', 'sex',\n",
              "       'capital_gain', 'capital_loss', 'hours_per_week', 'native_country',\n",
              "       'income'],\n",
              "      dtype='object')"
            ]
          },
          "metadata": {},
          "execution_count": 10
        }
      ]
    },
    {
      "cell_type": "code",
      "source": [
        "categorical = [var for var in dfnew.columns if dfnew[var].dtype=='O']"
      ],
      "metadata": {
        "id": "pIXtTk3-EnoS"
      },
      "execution_count": null,
      "outputs": []
    },
    {
      "cell_type": "code",
      "source": [
        "dfnew[categorical].isnull().sum()"
      ],
      "metadata": {
        "colab": {
          "base_uri": "https://localhost:8080/"
        },
        "id": "qTDDI_XkE4l8",
        "outputId": "b5d33227-49dd-42c6-f8d6-619421df3777"
      },
      "execution_count": null,
      "outputs": [
        {
          "output_type": "execute_result",
          "data": {
            "text/plain": [
              "workclass         0\n",
              "education         0\n",
              "marital_status    0\n",
              "occupation        0\n",
              "relationship      0\n",
              "race              0\n",
              "sex               0\n",
              "native_country    0\n",
              "income            0\n",
              "dtype: int64"
            ]
          },
          "metadata": {},
          "execution_count": 12
        }
      ]
    },
    {
      "cell_type": "code",
      "source": [
        "X = dfnew.drop(['income'], axis=1)\n",
        "y = dfnew['income']"
      ],
      "metadata": {
        "id": "acu_GgiSFIHo"
      },
      "execution_count": null,
      "outputs": []
    },
    {
      "cell_type": "code",
      "source": [
        "from sklearn.model_selection import train_test_split\n",
        "X_train, X_test, y_train, y_test = train_test_split(X, y, test_size = 0.3, random_state = 0)"
      ],
      "metadata": {
        "id": "Oyt1199lFOAM"
      },
      "execution_count": null,
      "outputs": []
    },
    {
      "cell_type": "code",
      "source": [
        "!pip install category_encoders\n",
        "import category_encoders as ce"
      ],
      "metadata": {
        "colab": {
          "base_uri": "https://localhost:8080/"
        },
        "id": "nOSfBnPjFVVo",
        "outputId": "96b5a5de-a72c-4f4a-e7ca-fd1938c8ee58"
      },
      "execution_count": null,
      "outputs": [
        {
          "output_type": "stream",
          "name": "stdout",
          "text": [
            "Looking in indexes: https://pypi.org/simple, https://us-python.pkg.dev/colab-wheels/public/simple/\n",
            "Collecting category_encoders\n",
            "  Downloading category_encoders-2.6.0-py2.py3-none-any.whl (81 kB)\n",
            "\u001b[2K     \u001b[90m━━━━━━━━━━━━━━━━━━━━━━━━━━━━━━━━━━━━━━━━\u001b[0m \u001b[32m81.2/81.2 KB\u001b[0m \u001b[31m3.0 MB/s\u001b[0m eta \u001b[36m0:00:00\u001b[0m\n",
            "\u001b[?25hRequirement already satisfied: scikit-learn>=0.20.0 in /usr/local/lib/python3.8/dist-packages (from category_encoders) (1.0.2)\n",
            "Requirement already satisfied: patsy>=0.5.1 in /usr/local/lib/python3.8/dist-packages (from category_encoders) (0.5.3)\n",
            "Requirement already satisfied: pandas>=1.0.5 in /usr/local/lib/python3.8/dist-packages (from category_encoders) (1.3.5)\n",
            "Requirement already satisfied: numpy>=1.14.0 in /usr/local/lib/python3.8/dist-packages (from category_encoders) (1.21.6)\n",
            "Requirement already satisfied: scipy>=1.0.0 in /usr/local/lib/python3.8/dist-packages (from category_encoders) (1.7.3)\n",
            "Requirement already satisfied: statsmodels>=0.9.0 in /usr/local/lib/python3.8/dist-packages (from category_encoders) (0.12.2)\n",
            "Requirement already satisfied: pytz>=2017.3 in /usr/local/lib/python3.8/dist-packages (from pandas>=1.0.5->category_encoders) (2022.7.1)\n",
            "Requirement already satisfied: python-dateutil>=2.7.3 in /usr/local/lib/python3.8/dist-packages (from pandas>=1.0.5->category_encoders) (2.8.2)\n",
            "Requirement already satisfied: six in /usr/local/lib/python3.8/dist-packages (from patsy>=0.5.1->category_encoders) (1.15.0)\n",
            "Requirement already satisfied: joblib>=0.11 in /usr/local/lib/python3.8/dist-packages (from scikit-learn>=0.20.0->category_encoders) (1.2.0)\n",
            "Requirement already satisfied: threadpoolctl>=2.0.0 in /usr/local/lib/python3.8/dist-packages (from scikit-learn>=0.20.0->category_encoders) (3.1.0)\n",
            "Installing collected packages: category_encoders\n",
            "Successfully installed category_encoders-2.6.0\n"
          ]
        }
      ]
    },
    {
      "cell_type": "code",
      "source": [
        "encoder = ce.OneHotEncoder(cols=['workclass', 'education', 'marital_status', 'occupation', 'relationship','race', 'sex', 'native_country'])\n",
        "X_train = encoder.fit_transform(X_train)\n",
        "X_test = encoder.transform(X_test)"
      ],
      "metadata": {
        "id": "0HN9IEW2Fdus"
      },
      "execution_count": null,
      "outputs": []
    },
    {
      "cell_type": "code",
      "source": [
        "from sklearn.naive_bayes import GaussianNB\n",
        "clf = GaussianNB()\n",
        "clf.fit(X_train, y_train)"
      ],
      "metadata": {
        "colab": {
          "base_uri": "https://localhost:8080/"
        },
        "id": "Ix45kl9iFo6A",
        "outputId": "9914f16c-a081-4459-cb70-782cef8e46ca"
      },
      "execution_count": null,
      "outputs": [
        {
          "output_type": "execute_result",
          "data": {
            "text/plain": [
              "GaussianNB()"
            ]
          },
          "metadata": {},
          "execution_count": 17
        }
      ]
    },
    {
      "cell_type": "code",
      "source": [
        "y_pred = clf.predict(X_test)\n",
        "y_pred"
      ],
      "metadata": {
        "colab": {
          "base_uri": "https://localhost:8080/"
        },
        "id": "EE1av8gdF__R",
        "outputId": "65f5c2b8-2572-4028-ef86-971db4653034"
      },
      "execution_count": null,
      "outputs": [
        {
          "output_type": "execute_result",
          "data": {
            "text/plain": [
              "array(['<=50K', '>50K', '<=50K', '>50K', '<=50K', '<=50K', '<=50K',\n",
              "       '<=50K', '<=50K', '<=50K', '<=50K', '<=50K', '<=50K', '<=50K',\n",
              "       '<=50K', '>50K', '<=50K', '<=50K', '<=50K', '<=50K', '>50K',\n",
              "       '<=50K', '>50K', '>50K', '<=50K', '<=50K', '<=50K', '<=50K',\n",
              "       '<=50K', '<=50K', '<=50K', '<=50K', '<=50K', '<=50K', '<=50K',\n",
              "       '<=50K', '<=50K', '<=50K', '<=50K', '<=50K', '<=50K', '<=50K',\n",
              "       '<=50K', '<=50K', '<=50K', '<=50K', '<=50K', '>50K', '<=50K',\n",
              "       '>50K', '<=50K', '>50K', '<=50K', '<=50K', '<=50K', '<=50K',\n",
              "       '<=50K', '<=50K', '<=50K', '<=50K', '>50K', '<=50K', '<=50K',\n",
              "       '<=50K', '<=50K', '>50K', '<=50K', '>50K', '<=50K', '<=50K',\n",
              "       '<=50K', '<=50K', '<=50K', '<=50K', '<=50K', '<=50K', '<=50K',\n",
              "       '<=50K', '<=50K', '<=50K', '<=50K', '<=50K', '<=50K', '<=50K',\n",
              "       '<=50K', '<=50K', '<=50K', '<=50K', '<=50K', '<=50K', '<=50K',\n",
              "       '<=50K', '>50K', '<=50K', '<=50K', '<=50K', '<=50K', '<=50K',\n",
              "       '<=50K', '<=50K', '<=50K', '<=50K', '<=50K', '<=50K', '<=50K',\n",
              "       '<=50K', '<=50K', '>50K', '<=50K', '<=50K', '<=50K', '<=50K',\n",
              "       '<=50K', '>50K', '<=50K', '<=50K', '>50K', '<=50K', '>50K',\n",
              "       '<=50K', '<=50K', '<=50K', '<=50K', '<=50K', '<=50K', '<=50K',\n",
              "       '<=50K', '<=50K', '>50K', '<=50K', '>50K', '<=50K', '<=50K',\n",
              "       '<=50K', '<=50K', '<=50K', '<=50K', '<=50K', '<=50K', '<=50K',\n",
              "       '<=50K', '<=50K', '<=50K', '<=50K', '<=50K', '<=50K', '>50K',\n",
              "       '<=50K', '>50K', '<=50K', '<=50K', '<=50K', '>50K', '<=50K',\n",
              "       '<=50K', '<=50K', '<=50K', '>50K', '>50K', '<=50K', '<=50K',\n",
              "       '<=50K', '<=50K', '<=50K', '<=50K', '<=50K', '<=50K', '<=50K',\n",
              "       '<=50K', '<=50K', '>50K', '<=50K', '<=50K', '<=50K', '<=50K',\n",
              "       '<=50K', '>50K', '<=50K', '<=50K', '<=50K', '<=50K', '>50K',\n",
              "       '<=50K', '<=50K', '<=50K', '<=50K', '<=50K', '<=50K', '<=50K',\n",
              "       '<=50K', '<=50K', '<=50K', '<=50K', '>50K', '<=50K', '<=50K',\n",
              "       '<=50K', '<=50K', '<=50K', '<=50K', '<=50K', '<=50K', '<=50K',\n",
              "       '>50K', '<=50K', '<=50K', '<=50K', '<=50K', '<=50K', '<=50K',\n",
              "       '<=50K', '<=50K', '>50K', '<=50K', '<=50K', '<=50K', '<=50K',\n",
              "       '<=50K', '<=50K', '<=50K', '<=50K', '<=50K', '>50K', '<=50K',\n",
              "       '<=50K', '>50K', '<=50K', '<=50K', '<=50K', '<=50K', '<=50K',\n",
              "       '<=50K', '>50K', '<=50K', '<=50K', '<=50K', '<=50K', '<=50K',\n",
              "       '<=50K', '<=50K', '<=50K', '<=50K', '<=50K', '<=50K', '>50K',\n",
              "       '<=50K', '<=50K', '<=50K', '<=50K', '<=50K', '>50K', '<=50K',\n",
              "       '<=50K', '<=50K', '<=50K', '<=50K', '<=50K', '<=50K', '<=50K',\n",
              "       '>50K', '<=50K', '<=50K', '<=50K', '<=50K', '<=50K', '<=50K',\n",
              "       '<=50K', '<=50K', '<=50K', '<=50K', '<=50K', '>50K', '<=50K',\n",
              "       '<=50K', '<=50K', '<=50K', '<=50K', '<=50K', '<=50K', '<=50K',\n",
              "       '<=50K', '<=50K', '<=50K', '<=50K', '<=50K', '<=50K', '<=50K',\n",
              "       '<=50K', '<=50K', '<=50K', '<=50K', '<=50K', '<=50K', '<=50K',\n",
              "       '<=50K', '<=50K', '>50K', '<=50K', '>50K', '>50K', '<=50K',\n",
              "       '<=50K', '<=50K', '<=50K', '<=50K', '>50K', '<=50K', '<=50K',\n",
              "       '<=50K', '<=50K', '<=50K', '<=50K', '<=50K', '<=50K', '<=50K',\n",
              "       '>50K', '<=50K', '<=50K', '<=50K', '>50K', '<=50K', '<=50K',\n",
              "       '<=50K', '<=50K', '<=50K', '<=50K', '<=50K', '>50K', '>50K',\n",
              "       '<=50K', '<=50K', '<=50K', '<=50K', '<=50K', '<=50K', '<=50K',\n",
              "       '<=50K', '<=50K', '<=50K', '<=50K', '<=50K', '<=50K', '<=50K',\n",
              "       '<=50K', '<=50K', '>50K', '<=50K', '<=50K', '>50K', '<=50K',\n",
              "       '<=50K', '<=50K', '<=50K', '>50K', '<=50K', '<=50K', '<=50K',\n",
              "       '<=50K', '<=50K', '<=50K', '<=50K', '<=50K', '>50K', '>50K',\n",
              "       '>50K', '<=50K', '<=50K', '<=50K', '<=50K', '<=50K', '<=50K',\n",
              "       '<=50K', '<=50K', '<=50K', '<=50K', '<=50K', '<=50K', '<=50K',\n",
              "       '<=50K', '<=50K', '<=50K', '<=50K', '<=50K', '>50K', '<=50K',\n",
              "       '<=50K', '<=50K', '<=50K', '<=50K', '<=50K', '<=50K', '<=50K',\n",
              "       '>50K', '<=50K', '<=50K', '<=50K', '<=50K', '>50K', '>50K',\n",
              "       '<=50K', '>50K', '<=50K', '<=50K', '<=50K', '<=50K', '>50K',\n",
              "       '<=50K', '<=50K', '<=50K', '<=50K', '>50K', '<=50K', '<=50K',\n",
              "       '<=50K', '<=50K', '<=50K', '<=50K', '<=50K', '<=50K', '<=50K',\n",
              "       '<=50K', '<=50K', '>50K', '<=50K', '<=50K', '<=50K', '<=50K',\n",
              "       '>50K', '<=50K', '<=50K', '<=50K', '>50K', '<=50K', '<=50K',\n",
              "       '<=50K', '<=50K', '<=50K', '<=50K', '>50K', '<=50K', '<=50K',\n",
              "       '<=50K', '>50K', '<=50K', '>50K', '<=50K', '<=50K', '<=50K',\n",
              "       '<=50K', '<=50K', '<=50K', '<=50K', '>50K', '<=50K', '>50K',\n",
              "       '<=50K', '<=50K', '<=50K', '<=50K', '<=50K', '<=50K', '<=50K',\n",
              "       '<=50K', '<=50K', '<=50K', '<=50K', '<=50K', '<=50K', '<=50K',\n",
              "       '<=50K', '<=50K', '<=50K', '<=50K', '<=50K', '<=50K', '<=50K',\n",
              "       '<=50K', '<=50K', '<=50K', '<=50K', '<=50K', '>50K', '<=50K',\n",
              "       '<=50K', '<=50K', '<=50K', '<=50K', '<=50K', '<=50K', '<=50K',\n",
              "       '<=50K', '<=50K', '<=50K', '>50K', '<=50K', '<=50K', '>50K',\n",
              "       '<=50K', '<=50K', '<=50K', '<=50K', '<=50K', '<=50K', '<=50K',\n",
              "       '>50K', '>50K', '<=50K', '<=50K', '<=50K', '<=50K', '<=50K',\n",
              "       '<=50K', '>50K', '>50K', '<=50K', '>50K', '<=50K', '<=50K',\n",
              "       '<=50K', '<=50K', '<=50K', '<=50K', '<=50K', '<=50K', '>50K',\n",
              "       '<=50K', '<=50K', '<=50K', '<=50K', '<=50K', '<=50K', '>50K',\n",
              "       '<=50K', '<=50K', '<=50K', '<=50K', '<=50K', '<=50K', '<=50K',\n",
              "       '<=50K', '<=50K', '>50K', '<=50K', '<=50K', '<=50K', '<=50K',\n",
              "       '<=50K', '<=50K', '<=50K', '<=50K', '<=50K', '<=50K', '<=50K',\n",
              "       '<=50K', '<=50K', '>50K', '<=50K', '>50K', '<=50K', '<=50K',\n",
              "       '<=50K', '<=50K', '<=50K', '<=50K', '<=50K', '<=50K', '<=50K',\n",
              "       '<=50K', '<=50K', '>50K', '<=50K', '<=50K', '<=50K', '<=50K',\n",
              "       '<=50K', '<=50K', '<=50K', '<=50K', '<=50K', '<=50K', '>50K',\n",
              "       '<=50K', '<=50K', '<=50K', '<=50K', '<=50K', '<=50K', '<=50K',\n",
              "       '<=50K', '<=50K', '<=50K', '<=50K', '<=50K', '<=50K', '<=50K',\n",
              "       '<=50K', '<=50K', '>50K', '<=50K', '>50K', '<=50K', '<=50K',\n",
              "       '<=50K', '<=50K', '<=50K', '<=50K', '<=50K', '<=50K', '<=50K',\n",
              "       '<=50K', '<=50K', '<=50K', '<=50K', '<=50K', '<=50K', '>50K',\n",
              "       '<=50K', '>50K', '<=50K', '<=50K', '<=50K', '<=50K', '<=50K',\n",
              "       '<=50K', '<=50K', '>50K', '<=50K', '<=50K', '<=50K', '<=50K',\n",
              "       '<=50K', '>50K', '<=50K', '<=50K', '<=50K', '<=50K', '<=50K',\n",
              "       '<=50K', '<=50K', '<=50K', '>50K', '<=50K', '<=50K', '<=50K',\n",
              "       '<=50K', '>50K', '>50K', '<=50K', '<=50K', '<=50K', '<=50K',\n",
              "       '<=50K', '<=50K', '<=50K', '<=50K', '<=50K', '>50K', '<=50K',\n",
              "       '<=50K', '<=50K', '<=50K', '<=50K', '<=50K', '<=50K', '<=50K',\n",
              "       '<=50K', '<=50K', '<=50K', '<=50K', '<=50K', '>50K', '>50K',\n",
              "       '<=50K', '<=50K', '<=50K', '<=50K', '<=50K', '<=50K', '<=50K',\n",
              "       '<=50K', '<=50K', '<=50K', '<=50K', '<=50K', '<=50K', '>50K',\n",
              "       '<=50K', '<=50K', '<=50K', '<=50K', '>50K', '<=50K', '<=50K',\n",
              "       '>50K', '<=50K', '<=50K', '<=50K', '<=50K', '<=50K', '>50K',\n",
              "       '<=50K', '<=50K', '<=50K', '<=50K', '<=50K', '<=50K', '<=50K',\n",
              "       '<=50K', '<=50K', '<=50K', '<=50K', '<=50K', '<=50K', '<=50K',\n",
              "       '<=50K', '<=50K', '<=50K', '<=50K', '<=50K', '<=50K', '<=50K',\n",
              "       '>50K', '<=50K', '<=50K', '<=50K', '<=50K', '<=50K', '<=50K',\n",
              "       '<=50K', '<=50K', '<=50K', '<=50K', '>50K', '<=50K', '<=50K',\n",
              "       '<=50K', '<=50K', '<=50K', '<=50K', '<=50K', '>50K', '<=50K',\n",
              "       '<=50K', '<=50K', '<=50K', '<=50K', '<=50K', '<=50K', '<=50K',\n",
              "       '<=50K', '<=50K', '<=50K', '<=50K', '<=50K', '<=50K', '<=50K',\n",
              "       '<=50K', '<=50K', '<=50K', '<=50K', '<=50K', '<=50K', '<=50K',\n",
              "       '<=50K', '<=50K', '<=50K', '<=50K', '<=50K', '<=50K', '<=50K',\n",
              "       '<=50K', '<=50K', '<=50K', '<=50K', '<=50K', '<=50K', '<=50K',\n",
              "       '<=50K', '<=50K', '<=50K', '>50K', '<=50K', '<=50K', '<=50K',\n",
              "       '<=50K', '<=50K', '<=50K', '<=50K', '>50K', '<=50K', '<=50K',\n",
              "       '<=50K', '<=50K', '<=50K', '<=50K', '<=50K', '<=50K', '<=50K',\n",
              "       '<=50K', '<=50K', '>50K', '<=50K', '<=50K', '<=50K', '<=50K',\n",
              "       '<=50K', '>50K', '<=50K', '<=50K', '<=50K', '<=50K', '<=50K',\n",
              "       '<=50K', '<=50K', '<=50K', '<=50K', '<=50K', '<=50K', '<=50K',\n",
              "       '<=50K', '<=50K', '<=50K', '<=50K', '>50K', '<=50K', '<=50K',\n",
              "       '<=50K', '<=50K', '<=50K', '<=50K', '<=50K', '<=50K', '<=50K',\n",
              "       '<=50K', '<=50K', '<=50K', '<=50K', '>50K', '>50K', '<=50K',\n",
              "       '<=50K', '<=50K', '<=50K', '<=50K', '<=50K', '>50K', '<=50K',\n",
              "       '<=50K', '<=50K', '<=50K', '<=50K', '<=50K', '<=50K'], dtype='<U5')"
            ]
          },
          "metadata": {},
          "execution_count": 18
        }
      ]
    },
    {
      "cell_type": "code",
      "source": [
        "from sklearn.metrics import classification_report\n",
        "y_pred=clf.predict(X_test)\n",
        "print(classification_report(y_test,y_pred))"
      ],
      "metadata": {
        "colab": {
          "base_uri": "https://localhost:8080/"
        },
        "id": "Apjoqm0wGKje",
        "outputId": "37bebda0-5e35-4cc5-e9eb-7d980bfb81ec"
      },
      "execution_count": null,
      "outputs": [
        {
          "output_type": "stream",
          "name": "stdout",
          "text": [
            "              precision    recall  f1-score   support\n",
            "\n",
            "       <=50K       0.79      0.94      0.86       626\n",
            "        >50K       0.64      0.30      0.41       227\n",
            "\n",
            "    accuracy                           0.77       853\n",
            "   macro avg       0.71      0.62      0.63       853\n",
            "weighted avg       0.75      0.77      0.74       853\n",
            "\n"
          ]
        }
      ]
    },
    {
      "cell_type": "code",
      "source": [
        "from sklearn import metrics\n",
        "print(\"Accuracy Score\",metrics.accuracy_score(y_test,y_pred))\n"
      ],
      "metadata": {
        "colab": {
          "base_uri": "https://localhost:8080/"
        },
        "id": "ccAadfeRHxeg",
        "outputId": "08a68a6e-cfb8-4617-ee3b-2c7338a7042f"
      },
      "execution_count": null,
      "outputs": [
        {
          "output_type": "stream",
          "name": "stdout",
          "text": [
            "Accuracy Score 0.7690504103165299\n"
          ]
        }
      ]
    },
    {
      "cell_type": "markdown",
      "source": [
        "KNN Classifier"
      ],
      "metadata": {
        "id": "B1QRHmRA-rWM"
      }
    },
    {
      "cell_type": "code",
      "source": [
        "import pandas as pd\n",
        "df1=pd.read_csv('/content/drive/MyDrive/adult.csv')\n"
      ],
      "metadata": {
        "id": "wXUcK9VB-trX"
      },
      "execution_count": null,
      "outputs": []
    },
    {
      "cell_type": "code",
      "source": [],
      "metadata": {
        "id": "9KPovTn8yqRj"
      },
      "execution_count": null,
      "outputs": []
    },
    {
      "cell_type": "code",
      "source": [
        "df1.isna().sum()"
      ],
      "metadata": {
        "colab": {
          "base_uri": "https://localhost:8080/"
        },
        "id": "lwKeki2E1fYN",
        "outputId": "ba49ec0b-f972-458e-d1c6-26cacd86ead1"
      },
      "execution_count": null,
      "outputs": [
        {
          "output_type": "execute_result",
          "data": {
            "text/plain": [
              "age                0\n",
              "workclass          0\n",
              "fnlwgt             0\n",
              "education          0\n",
              "educational-num    0\n",
              "marital-status     0\n",
              "occupation         0\n",
              "relationship       0\n",
              "race               0\n",
              "gender             0\n",
              "capital-gain       0\n",
              "capital-loss       0\n",
              "hours-per-week     0\n",
              "native-country     0\n",
              "income             0\n",
              "dtype: int64"
            ]
          },
          "metadata": {},
          "execution_count": 23
        }
      ]
    },
    {
      "cell_type": "code",
      "source": [
        "dup_data = df1.duplicated().any()\n",
        "dup_data"
      ],
      "metadata": {
        "colab": {
          "base_uri": "https://localhost:8080/"
        },
        "id": "8lnCdzc91oNW",
        "outputId": "e855e22f-2e2b-438b-b665-ccea24faf96c"
      },
      "execution_count": null,
      "outputs": [
        {
          "output_type": "execute_result",
          "data": {
            "text/plain": [
              "True"
            ]
          },
          "metadata": {},
          "execution_count": 24
        }
      ]
    },
    {
      "cell_type": "code",
      "source": [
        "df1['income'] = (df1['income']==(\"<=50K\")).astype(int)\n",
        "\n"
      ],
      "metadata": {
        "id": "y5XnJ6RR5lgQ"
      },
      "execution_count": null,
      "outputs": []
    },
    {
      "cell_type": "code",
      "source": [
        "df_str = df1.select_dtypes(include='object')\n",
        "df_int = df1.select_dtypes(exclude='object')\n"
      ],
      "metadata": {
        "id": "tMGb34YJ6HWp"
      },
      "execution_count": null,
      "outputs": []
    },
    {
      "cell_type": "code",
      "source": [
        "df_str = pd.get_dummies(df_str)\n"
      ],
      "metadata": {
        "id": "QdgYoC8t6oF1"
      },
      "execution_count": null,
      "outputs": []
    },
    {
      "cell_type": "code",
      "source": [
        "y_last = df_int['income']\n",
        "x = df_int.drop(columns='income')\n",
        "column_names = x.columns.values\n",
        "type(x)"
      ],
      "metadata": {
        "colab": {
          "base_uri": "https://localhost:8080/"
        },
        "id": "ND3ygrsz6yka",
        "outputId": "10a2ef73-0062-4b23-e454-855700fe5d2d"
      },
      "execution_count": null,
      "outputs": [
        {
          "output_type": "execute_result",
          "data": {
            "text/plain": [
              "pandas.core.frame.DataFrame"
            ]
          },
          "metadata": {},
          "execution_count": 35
        }
      ]
    },
    {
      "cell_type": "code",
      "source": [
        "from sklearn import preprocessing\n",
        "scaler = preprocessing.StandardScaler()\n",
        "x_stndrd = scaler.fit_transform(x)\n",
        "type(x_stndrd)"
      ],
      "metadata": {
        "colab": {
          "base_uri": "https://localhost:8080/"
        },
        "id": "p-XSc64B67wf",
        "outputId": "ef5ceb42-d53b-413e-8851-c6e5f89b7e26"
      },
      "execution_count": null,
      "outputs": [
        {
          "output_type": "execute_result",
          "data": {
            "text/plain": [
              "numpy.ndarray"
            ]
          },
          "metadata": {},
          "execution_count": 36
        }
      ]
    },
    {
      "cell_type": "code",
      "source": [
        "x_stndrd = pd.DataFrame(x_stndrd)\n",
        "x_stndrd.columns = column_names\n",
        "type(x_stndrd)"
      ],
      "metadata": {
        "colab": {
          "base_uri": "https://localhost:8080/"
        },
        "id": "P-HpZr-Z7DGg",
        "outputId": "ec341a0c-882d-4868-a098-49f6e036541a"
      },
      "execution_count": null,
      "outputs": [
        {
          "output_type": "execute_result",
          "data": {
            "text/plain": [
              "pandas.core.frame.DataFrame"
            ]
          },
          "metadata": {},
          "execution_count": 37
        }
      ]
    },
    {
      "cell_type": "code",
      "source": [
        "x_last = pd.concat([x_stndrd,df_str],axis=1)\n"
      ],
      "metadata": {
        "id": "iy9cPvUb7Jv-"
      },
      "execution_count": null,
      "outputs": []
    },
    {
      "cell_type": "code",
      "source": [
        "from sklearn.model_selection import train_test_split\n",
        "x_train, x_test, y_train, y_test  = train_test_split(x_last,y_last, test_size=0.30,random_state=0)"
      ],
      "metadata": {
        "id": "_7ed7atl7Ouu"
      },
      "execution_count": null,
      "outputs": []
    },
    {
      "cell_type": "code",
      "source": [
        "from sklearn.neighbors import KNeighborsClassifier\n",
        "knn = KNeighborsClassifier(n_neighbors=4).fit(x_train,y_train)\n",
        "y_pred = knn.predict(x_test)"
      ],
      "metadata": {
        "id": "Ed5kd2rZAXSi"
      },
      "execution_count": null,
      "outputs": []
    },
    {
      "cell_type": "code",
      "source": [
        "from sklearn import metrics\n",
        "metrics.accuracy_score(y_test,y_pred)"
      ],
      "metadata": {
        "colab": {
          "base_uri": "https://localhost:8080/"
        },
        "id": "ytTuvF5yAudi",
        "outputId": "f9c2de81-7316-4544-b763-5db56a6b62db"
      },
      "execution_count": null,
      "outputs": [
        {
          "output_type": "execute_result",
          "data": {
            "text/plain": [
              "0.8143042380399919"
            ]
          },
          "metadata": {},
          "execution_count": 41
        }
      ]
    },
    {
      "cell_type": "code",
      "source": [
        "from sklearn.metrics import classification_report\n",
        "print(classification_report(y_test,y_pred))"
      ],
      "metadata": {
        "colab": {
          "base_uri": "https://localhost:8080/"
        },
        "id": "n3o5XaCWPEFX",
        "outputId": "6b21ab62-b358-4a16-8917-6be9908b36e1"
      },
      "execution_count": null,
      "outputs": [
        {
          "output_type": "stream",
          "name": "stdout",
          "text": [
            "              precision    recall  f1-score   support\n",
            "\n",
            "           0       0.60      0.70      0.64      3515\n",
            "           1       0.90      0.85      0.87     11138\n",
            "\n",
            "    accuracy                           0.81     14653\n",
            "   macro avg       0.75      0.77      0.76     14653\n",
            "weighted avg       0.83      0.81      0.82     14653\n",
            "\n"
          ]
        }
      ]
    }
  ]
}