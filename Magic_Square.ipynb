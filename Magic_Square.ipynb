{
  "nbformat": 4,
  "nbformat_minor": 0,
  "metadata": {
    "colab": {
      "provenance": []
    },
    "kernelspec": {
      "name": "python3",
      "display_name": "Python 3"
    },
    "language_info": {
      "name": "python"
    }
  },
  "cells": [
    {
      "cell_type": "code",
      "execution_count": null,
      "metadata": {
        "id": "ZxEGzu-xzpqZ"
      },
      "outputs": [],
      "source": [
        "\n",
        "\n",
        "def generateSquare(n):\n",
        "\tmagicSquare = [[0 for x in range(n)]\n",
        "\t\t\t\tfor y in range(n)]\n",
        "\ti = n // 2\n",
        "\tj = n - 1\n",
        "\tnum = 1\n",
        "\twhile num <= (n * n):\n",
        "\t\tif i == -1 and j == n: # 3rd condition\n",
        "\t\t\tj = n - 2\n",
        "\t\t\ti = 0\n",
        "\t\telse:\n",
        "\t\t\tif j == n:\n",
        "\t\t\t\tj = 0\n",
        "\t\t\tif i < 0:\n",
        "\t\t\t\ti = n - 1\n",
        "\n",
        "\t\tif magicSquare[int(i)][int(j)]: # 2nd condition\n",
        "\t\t\tj = j - 2\n",
        "\t\t\ti = i + 1\n",
        "\t\t\tcontinue\n",
        "\t\telse:\n",
        "\t\t\tmagicSquare[int(i)][int(j)] = num\n",
        "\t\t\tnum = num + 1\n",
        "\n",
        "\t\tj = j + 1\n",
        "\t\ti = i - 1 # 1st condition\n",
        "\tprint(\"Magic Square for n =\", n)\n",
        "\tprint(\"Sum of each row or column\",\n",
        "\t\tn * (n * n + 1) // 2, \"\\n\")\n",
        "\n",
        "\tfor i in range(0, n):\n",
        "\t\tfor j in range(0, n):\n",
        "\t\t\tprint('%2d ' % (magicSquare[i][j]),\n",
        "\t\t\t\tend='')\n",
        "\n",
        "\t\t\t# To display output\n",
        "\t\t\t# in matrix form\n",
        "\t\t\tif j == n - 1:\n",
        "\t\t\t\tprint()\n",
        "\n",
        "# Driver Code\n",
        "\n",
        "\n",
        "# Works only when n is odd\n",
        "n=int(input())\n",
        "generateSquare(n)\n",
        "\n"
      ]
    },
    {
      "cell_type": "code",
      "source": [
        "def generateSquare(n):\n",
        "    magicSquare=[[0 for x in range(n)]\n",
        "                for y in range(n)]\n",
        "    i=n//2\n",
        "    j=n-1\n",
        "    num=1\n",
        "    while num<=(n*n):\n",
        "        if i==-1 and j==n:\n",
        "            i=0\n",
        "            j=n-2\n",
        "        else:\n",
        "            if j==n:\n",
        "                j=0\n",
        "            if i<0:\n",
        "                i=n-1\n",
        "        if magicSquare[int(i)][int(j)]:\n",
        "            j=j-2\n",
        "            i=i+1\n",
        "            continue\n",
        "\n",
        "        j=j+1\n",
        "        i=i-1\n",
        "\n",
        "    print(\"Magic Square for n=\",n)\n",
        "    print(\"Sum of each row/column/diagonal\",n*(n*n+1)//2,\"\\n\")\n",
        "    for i in range(0,n):\n",
        "        for j in range(0,n):\n",
        "            print('%2d'%(magicSquare[i][j]),end='')\n",
        "\n",
        "            if j==n-1:\n",
        "                print()\n",
        "n=int(input())\n",
        "generateSquare(n)\n"
      ],
      "metadata": {
        "colab": {
          "base_uri": "https://localhost:8080/",
          "height": 322
        },
        "id": "5oPAPdpJLWjj",
        "outputId": "4f67facb-476c-4244-d5db-6bb2481a124d"
      },
      "execution_count": null,
      "outputs": [
        {
          "output_type": "error",
          "ename": "KeyboardInterrupt",
          "evalue": "ignored",
          "traceback": [
            "\u001b[0;31m---------------------------------------------------------------------------\u001b[0m",
            "\u001b[0;31mKeyboardInterrupt\u001b[0m                         Traceback (most recent call last)",
            "\u001b[0;32m<ipython-input-4-03b7469835f2>\u001b[0m in \u001b[0;36m<module>\u001b[0;34m\u001b[0m\n\u001b[1;32m     31\u001b[0m                 \u001b[0mprint\u001b[0m\u001b[0;34m(\u001b[0m\u001b[0;34m)\u001b[0m\u001b[0;34m\u001b[0m\u001b[0;34m\u001b[0m\u001b[0m\n\u001b[1;32m     32\u001b[0m \u001b[0mn\u001b[0m\u001b[0;34m=\u001b[0m\u001b[0mint\u001b[0m\u001b[0;34m(\u001b[0m\u001b[0minput\u001b[0m\u001b[0;34m(\u001b[0m\u001b[0;34m)\u001b[0m\u001b[0;34m)\u001b[0m\u001b[0;34m\u001b[0m\u001b[0;34m\u001b[0m\u001b[0m\n\u001b[0;32m---> 33\u001b[0;31m \u001b[0mgenerateSquare\u001b[0m\u001b[0;34m(\u001b[0m\u001b[0mn\u001b[0m\u001b[0;34m)\u001b[0m\u001b[0;34m\u001b[0m\u001b[0;34m\u001b[0m\u001b[0m\n\u001b[0m",
            "\u001b[0;32m<ipython-input-4-03b7469835f2>\u001b[0m in \u001b[0;36mgenerateSquare\u001b[0;34m(n)\u001b[0m\n\u001b[1;32m     14\u001b[0m             \u001b[0;32mif\u001b[0m \u001b[0mi\u001b[0m\u001b[0;34m<\u001b[0m\u001b[0;36m0\u001b[0m\u001b[0;34m:\u001b[0m\u001b[0;34m\u001b[0m\u001b[0;34m\u001b[0m\u001b[0m\n\u001b[1;32m     15\u001b[0m                 \u001b[0mi\u001b[0m\u001b[0;34m=\u001b[0m\u001b[0mn\u001b[0m\u001b[0;34m-\u001b[0m\u001b[0;36m1\u001b[0m\u001b[0;34m\u001b[0m\u001b[0;34m\u001b[0m\u001b[0m\n\u001b[0;32m---> 16\u001b[0;31m         \u001b[0;32mif\u001b[0m \u001b[0mmagicSquare\u001b[0m\u001b[0;34m[\u001b[0m\u001b[0mint\u001b[0m\u001b[0;34m(\u001b[0m\u001b[0mi\u001b[0m\u001b[0;34m)\u001b[0m\u001b[0;34m]\u001b[0m\u001b[0;34m[\u001b[0m\u001b[0mint\u001b[0m\u001b[0;34m(\u001b[0m\u001b[0mj\u001b[0m\u001b[0;34m)\u001b[0m\u001b[0;34m]\u001b[0m\u001b[0;34m:\u001b[0m\u001b[0;34m\u001b[0m\u001b[0;34m\u001b[0m\u001b[0m\n\u001b[0m\u001b[1;32m     17\u001b[0m             \u001b[0mj\u001b[0m\u001b[0;34m=\u001b[0m\u001b[0mj\u001b[0m\u001b[0;34m-\u001b[0m\u001b[0;36m2\u001b[0m\u001b[0;34m\u001b[0m\u001b[0;34m\u001b[0m\u001b[0m\n\u001b[1;32m     18\u001b[0m             \u001b[0mi\u001b[0m\u001b[0;34m=\u001b[0m\u001b[0mi\u001b[0m\u001b[0;34m+\u001b[0m\u001b[0;36m1\u001b[0m\u001b[0;34m\u001b[0m\u001b[0;34m\u001b[0m\u001b[0m\n",
            "\u001b[0;31mKeyboardInterrupt\u001b[0m: "
          ]
        }
      ]
    }
  ]
}