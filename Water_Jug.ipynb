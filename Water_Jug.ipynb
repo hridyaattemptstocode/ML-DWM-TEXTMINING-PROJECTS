{
  "nbformat": 4,
  "nbformat_minor": 0,
  "metadata": {
    "colab": {
      "provenance": []
    },
    "kernelspec": {
      "name": "python3",
      "display_name": "Python 3"
    },
    "language_info": {
      "name": "python"
    }
  },
  "cells": [
    {
      "cell_type": "code",
      "execution_count": null,
      "metadata": {
        "colab": {
          "base_uri": "https://localhost:8080/"
        },
        "id": "CmUjZvjgyV0t",
        "outputId": "85c9bb3c-ff63-4e22-c129-4627e5d347d9"
      },
      "outputs": [
        {
          "output_type": "stream",
          "name": "stdout",
          "text": [
            "Enter the volume of first jug: 4\n",
            "Enter the volume of second jug: 3\n",
            "Enter the volume of water that should be remaining in second jug: 2\n",
            "\n",
            "Steps: \n",
            "0 0\n",
            "4 0\n",
            "4 3\n",
            "0 3\n",
            "3 0\n",
            "3 3\n",
            "4 2\n",
            "0 2\n"
          ]
        },
        {
          "output_type": "execute_result",
          "data": {
            "text/plain": [
              "True"
            ]
          },
          "metadata": {},
          "execution_count": 1
        }
      ],
      "source": [
        "from collections import defaultdict\n",
        "\n",
        "jug1 = int(input(\"Enter the volume of first jug: \"))\n",
        "jug2 = int(input(\"Enter the volume of second jug: \"))\n",
        "aim = int(input(\"Enter the volume of water that should be remaining in second jug: \"))\n",
        "\n",
        "visited = defaultdict(lambda: False)\n",
        "\n",
        "def waterJugSolver(amt1, amt2):\n",
        "\n",
        "    if (amt1 == aim and amt2 == 0) or (amt2 == aim and amt1 == 0):\n",
        "        print(amt1, amt2)\n",
        "        return True\n",
        "\n",
        "    if visited[(amt1, amt2)] == False:\n",
        "        print(amt1, amt2)\n",
        "\n",
        "        visited[(amt1, amt2)] = True\n",
        "\n",
        "        return (waterJugSolver(0, amt2) or\n",
        "                waterJugSolver(amt1, 0) or\n",
        "                waterJugSolver(jug1, amt2) or\n",
        "                waterJugSolver(amt1, jug2) or\n",
        "                waterJugSolver(amt1 + min(amt2, (jug1-amt1)),\n",
        "                amt2 - min(amt2, (jug1-amt1))) or\n",
        "                waterJugSolver(amt1 - min(amt1, (jug2-amt2)),\n",
        "                amt2 + min(amt1, (jug2-amt2))))\n",
        "    else:\n",
        "        return False\n",
        "\n",
        "print(\"\\nSteps: \")\n",
        "\n",
        "waterJugSolver(0, 0)"
      ]
    }
  ]
}