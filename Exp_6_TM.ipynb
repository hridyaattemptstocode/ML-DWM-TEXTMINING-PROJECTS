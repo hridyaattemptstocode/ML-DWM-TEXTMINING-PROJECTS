{
  "cells": [
    {
      "cell_type": "code",
      "execution_count": null,
      "id": "7e5ffbbd",
      "metadata": {
        "id": "7e5ffbbd",
        "outputId": "30f881b8-4a15-48f4-9e1c-00d7131efb02"
      },
      "outputs": [
        {
          "data": {
            "text/plain": [
              "'\\npip install bs4\\npip install lxml\\npip install requests\\n'"
            ]
          },
          "execution_count": 3,
          "metadata": {},
          "output_type": "execute_result"
        }
      ],
      "source": [
        "\"\"\"\n",
        "pip install bs4\n",
        "pip install lxml\n",
        "pip install requests\n",
        "\"\"\""
      ]
    },
    {
      "cell_type": "code",
      "execution_count": null,
      "id": "749bf966",
      "metadata": {
        "id": "749bf966",
        "outputId": "be90f60a-9085-4d66-b6d7-4a08b123c477"
      },
      "outputs": [
        {
          "data": {
            "text/plain": [
              "'\\nfrom bs4 import BeautifulSoup\\nimport requests\\n \\nFile = open(\"out.csv\", \"a\")\\nURL = \"https://www.amazon.in/\"\\n \\nHEADERS = ({\\'User-Agent\\':\\n           \\'Mozilla/5.0 (X11; Linux x86_64) AppleWebKit/537.36 (KHTML, like Gecko) Chrome/44.0.2403.157 Safari/537.36\\',\\n                           \\'Accept-Language\\': \\'en-US, en;q=0.5\\'})\\n \\nwebpage = requests.get(URL, headers=HEADERS)\\nsoup = BeautifulSoup(webpage.content, \"lxml\")\\n# \"productTitle\"\\n\\n'"
            ]
          },
          "execution_count": 4,
          "metadata": {},
          "output_type": "execute_result"
        }
      ],
      "source": [
        "\"\"\"\n",
        "from bs4 import BeautifulSoup\n",
        "import requests\n",
        "\n",
        "File = open(\"out.csv\", \"a\")\n",
        "URL = \"https://www.amazon.in/\"\n",
        "\n",
        "HEADERS = ({'User-Agent':\n",
        "           'Mozilla/5.0 (X11; Linux x86_64) AppleWebKit/537.36 (KHTML, like Gecko) Chrome/44.0.2403.157 Safari/537.36',\n",
        "                           'Accept-Language': 'en-US, en;q=0.5'})\n",
        "\n",
        "webpage = requests.get(URL, headers=HEADERS)\n",
        "soup = BeautifulSoup(webpage.content, \"lxml\")\n",
        "# \"productTitle\"\n",
        "\n",
        "\"\"\""
      ]
    },
    {
      "cell_type": "code",
      "execution_count": null,
      "id": "6385e91a",
      "metadata": {
        "id": "6385e91a"
      },
      "outputs": [],
      "source": [
        "# importing libraries\n",
        "from bs4 import BeautifulSoup\n",
        "import requests\n",
        "\n",
        "def main(URL):\n",
        "    # opening our output file in append mode\n",
        "    File = open(\"out.csv\", \"a\")\n",
        "\n",
        "    # specifying user agent, You can use other user agents\n",
        "    # available on the internet\n",
        "    \"\"\"HEADERS = ({'User-Agent':\n",
        "           'Mozilla/5.0 (X11; Linux x86_64) AppleWebKit/537.36 (KHTML, like Gecko) Chrome/44.0.2403.157 Safari/537.36',\n",
        "                           'Accept-Language': 'en-US, en;q=0.5'})\"\"\"\n",
        "    HEADERS = ({'User-Agent':'Mozilla/5.0 (Windows NT 10.0; Win64; x64) AppleWebKit/537.36 (KHTML, like Gecko) Chrome/119.0.0.0 Safari/537.36', 'Accept-Language': 'en-US, en;q=0.5'})\n",
        "\n",
        "\n",
        "    # Making the HTTP Request\n",
        "    webpage = requests.get(URL, headers=HEADERS)\n",
        "\n",
        "    # Creating the Soup Object containing all data\n",
        "    soup = BeautifulSoup(webpage.content, \"lxml\")\n",
        "\n",
        "    # retrieving product title\n",
        "    try:\n",
        "        # Outer Tag Object\n",
        "        title = soup.find(\"span\",\n",
        "                          attrs={\"id\": 'productTitle'})\n",
        "        print(title)\n",
        "\n",
        "        # Inner NavigableString Object\n",
        "        title_value = title.string\n",
        "\n",
        "        # Title as a string value\n",
        "        title_string = title_value.strip().replace(',', '')\n",
        "\n",
        "    except AttributeError:\n",
        "        title_string = \"NA\"\n",
        "    print(\"product Title = \", title_string)\n",
        "\n",
        "    # saving the title in the file\n",
        "    File.write(f\"{title_string},\")\n",
        "\n",
        "    # retrieving price\n",
        "    try:\n",
        "        price = soup.find(\n",
        "            \"span\", attrs={'id': 'priceblock_ourprice'}).string.strip().replace(',', '')\n",
        "        # we are omitting unnecessary spaces\n",
        "        # and commas form our string\n",
        "    except AttributeError:\n",
        "        price = \"NA\"\n",
        "    print(\"Products price = \", price)\n",
        "\n",
        "    # saving\n",
        "    File.write(f\"{price},\")\n",
        "\n",
        "    # retrieving product rating\n",
        "    try:\n",
        "        rating = soup.find(\"i\", attrs={\n",
        "                           'class': 'a-icon a-icon-star a-star-4-5'}).string.strip().replace(',', '')\n",
        "\n",
        "    except AttributeError:\n",
        "\n",
        "        try:\n",
        "            rating = soup.find(\n",
        "                \"span\", attrs={'class': 'a-icon-alt'}).string.strip().replace(',', '')\n",
        "        except:\n",
        "            rating = \"NA\"\n",
        "    print(\"Overall rating = \", rating)\n",
        "\n",
        "    File.write(f\"{rating},\")\n",
        "\n",
        "    try:\n",
        "        review_count = soup.find(\n",
        "            \"span\", attrs={'id': 'acrCustomerReviewText'}).string.strip().replace(',', '')\n",
        "\n",
        "    except AttributeError:\n",
        "        review_count = \"NA\"\n",
        "    print(\"Total reviews = \", review_count)\n",
        "    File.write(f\"{review_count},\")\n",
        "\n",
        "    # print availablility status\n",
        "    try:\n",
        "        available = soup.find(\"div\", attrs={'id': 'availability'})\n",
        "        available = available.find(\"span\").string.strip().replace(',', '')\n",
        "\n",
        "    except AttributeError:\n",
        "        available = \"NA\"\n",
        "    print(\"Availability = \", available)\n",
        "\n",
        "    # saving the availability and closing the line\n",
        "    File.write(f\"{available},\\n\")\n",
        "\n",
        "    # closing the file\n",
        "    File.close()"
      ]
    },
    {
      "cell_type": "code",
      "execution_count": null,
      "id": "6326fac6",
      "metadata": {
        "id": "6326fac6",
        "outputId": "94409c38-9f0a-4c7d-bbc8-b6c18a8ceab3"
      },
      "outputs": [
        {
          "name": "stdout",
          "output_type": "stream",
          "text": [
            "https://www.amazon.in/Casio-Digital-Black-Dial-Watch-GBD-200-1DR/dp/B098T1KYDN/ref=sr_1_1_sspa?crid=1JK7OB29YUO47&keywords=solar+watch&qid=1702356110&sprefix=solar+watch%2Caps%2C286&sr=8-1-spons&sp_csd=d2lkZ2V0TmFtZT1zcF9hdGY&psc=1\n",
            "None\n",
            "product Title =  NA\n",
            "Products price =  NA\n",
            "Overall rating =  NA\n",
            "Total reviews =  NA\n",
            "Availability =  NA\n"
          ]
        }
      ],
      "source": [
        "if __name__ == '__main__':\n",
        "  # opening our url file to access URLs\n",
        "    file = open(\"url.txt\", \"r\")\n",
        "\n",
        "       # iterating over the urls\n",
        "    for links in file.readlines():\n",
        "        print(links)\n",
        "        main(links)\n"
      ]
    },
    {
      "cell_type": "code",
      "execution_count": null,
      "id": "3196c4a9",
      "metadata": {
        "id": "3196c4a9"
      },
      "outputs": [],
      "source": []
    }
  ],
  "metadata": {
    "kernelspec": {
      "display_name": "Python 3 (ipykernel)",
      "language": "python",
      "name": "python3"
    },
    "language_info": {
      "codemirror_mode": {
        "name": "ipython",
        "version": 3
      },
      "file_extension": ".py",
      "mimetype": "text/x-python",
      "name": "python",
      "nbconvert_exporter": "python",
      "pygments_lexer": "ipython3",
      "version": "3.9.7"
    },
    "colab": {
      "provenance": []
    }
  },
  "nbformat": 4,
  "nbformat_minor": 5
}