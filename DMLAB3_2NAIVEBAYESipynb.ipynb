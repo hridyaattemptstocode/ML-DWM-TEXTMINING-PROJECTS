{
  "nbformat": 4,
  "nbformat_minor": 0,
  "metadata": {
    "colab": {
      "provenance": []
    },
    "kernelspec": {
      "name": "python3",
      "display_name": "Python 3"
    },
    "language_info": {
      "name": "python"
    }
  },
  "cells": [
    {
      "cell_type": "code",
      "execution_count": null,
      "metadata": {
        "colab": {
          "base_uri": "https://localhost:8080/"
        },
        "id": "LmFOs6Hf7ciL",
        "outputId": "dd8eb692-ec7c-4039-adae-4865b9b32ed8"
      },
      "outputs": [
        {
          "output_type": "stream",
          "name": "stdout",
          "text": [
            "Looking in indexes: https://pypi.org/simple, https://us-python.pkg.dev/colab-wheels/public/simple/\n",
            "Requirement already satisfied: pydataset in /usr/local/lib/python3.8/dist-packages (0.2.0)\n",
            "Requirement already satisfied: pandas in /usr/local/lib/python3.8/dist-packages (from pydataset) (1.3.5)\n",
            "Requirement already satisfied: pytz>=2017.3 in /usr/local/lib/python3.8/dist-packages (from pandas->pydataset) (2022.6)\n",
            "Requirement already satisfied: python-dateutil>=2.7.3 in /usr/local/lib/python3.8/dist-packages (from pandas->pydataset) (2.8.2)\n",
            "Requirement already satisfied: numpy>=1.17.3 in /usr/local/lib/python3.8/dist-packages (from pandas->pydataset) (1.21.6)\n",
            "Requirement already satisfied: six>=1.5 in /usr/local/lib/python3.8/dist-packages (from python-dateutil>=2.7.3->pandas->pydataset) (1.15.0)\n"
          ]
        },
        {
          "output_type": "execute_result",
          "data": {
            "text/plain": [
              "<bound method NDFrame.head of       sex   age  income insurance  illness  actdays  hscore chcond  doctorco  \\\n",
              "1       1  0.19    0.55  levyplus        1        4       1     np         1   \n",
              "2       1  0.19    0.45  levyplus        1        2       1     np         1   \n",
              "3       0  0.19    0.90   medlevy        3        0       0     np         1   \n",
              "4       0  0.19    0.15   medlevy        1        0       0     np         1   \n",
              "5       0  0.19    0.45   medlevy        2        5       1     la         1   \n",
              "...   ...   ...     ...       ...      ...      ...     ...    ...       ...   \n",
              "5186    1  0.22    0.55   medlevy        0        0       0     np         0   \n",
              "5187    0  0.27    1.30   medlevy        0        0       1     np         0   \n",
              "5188    1  0.37    0.25  freerepa        1        0       1     np         0   \n",
              "5189    1  0.52    0.65   medlevy        0        0       0     np         0   \n",
              "5190    0  0.72    0.25  freerepa        0        0       0     np         0   \n",
              "\n",
              "      nondocco  hospadmi  hospdays  medecine  prescrib  nonpresc  \n",
              "1            0         0         0         1         1         0  \n",
              "2            0         0         0         2         1         1  \n",
              "3            0         1         4         2         1         1  \n",
              "4            0         0         0         0         0         0  \n",
              "5            0         0         0         3         1         2  \n",
              "...        ...       ...       ...       ...       ...       ...  \n",
              "5186         0         0         0         0         0         0  \n",
              "5187         0         0         0         3         0         3  \n",
              "5188         0         0         0         0         0         0  \n",
              "5189         0         0         0         0         0         0  \n",
              "5190         0         0         0         0         0         0  \n",
              "\n",
              "[5190 rows x 15 columns]>"
            ]
          },
          "metadata": {},
          "execution_count": 24
        }
      ],
      "source": [
        "!pip install pydataset\n",
        "from pydataset import data\n",
        "import pandas as pd\n",
        "from sklearn.naive_bayes import GaussianNB\n",
        "from sklearn.model_selection import train_test_split\n",
        "from sklearn.metrics import classification_report\n",
        "df=data(\"DoctorAUS\")\n",
        "X=df[['age','income','sex','illness','actdays','hscore','doctorco','nondocco','hospadmi','hospdays','prescrib','medecine']]\n",
        "y=df['insurance']\n",
        "df.head\n"
      ]
    },
    {
      "cell_type": "code",
      "source": [
        "X_train,X_test,y_train,y_test=train_test_split(X,y,test_size=.3,random_state=0)\n",
        "clf=GaussianNB()\n",
        "clf.fit(X_train,y_train)"
      ],
      "metadata": {
        "colab": {
          "base_uri": "https://localhost:8080/"
        },
        "id": "4rwxmUZGHaNA",
        "outputId": "6464a90d-b392-4f05-e033-639c35fd7186"
      },
      "execution_count": null,
      "outputs": [
        {
          "output_type": "execute_result",
          "data": {
            "text/plain": [
              "GaussianNB()"
            ]
          },
          "metadata": {},
          "execution_count": 25
        }
      ]
    },
    {
      "cell_type": "code",
      "source": [
        "y_pred=clf.predict(X_test)\n",
        "print(classification_report(y_test,y_pred))"
      ],
      "metadata": {
        "colab": {
          "base_uri": "https://localhost:8080/"
        },
        "id": "2g_JO48gFADa",
        "outputId": "ce5d29c7-6fae-40a0-db63-e7f8d08f8559"
      },
      "execution_count": null,
      "outputs": [
        {
          "output_type": "stream",
          "name": "stdout",
          "text": [
            "              precision    recall  f1-score   support\n",
            "\n",
            "     freepor       0.29      0.12      0.16        69\n",
            "    freerepa       0.63      0.52      0.57       321\n",
            "    levyplus       0.50      0.31      0.39       670\n",
            "     medlevy       0.48      0.81      0.60       497\n",
            "\n",
            "    accuracy                           0.51      1557\n",
            "   macro avg       0.47      0.44      0.43      1557\n",
            "weighted avg       0.51      0.51      0.48      1557\n",
            "\n"
          ]
        }
      ]
    },
    {
      "cell_type": "code",
      "source": [
        "from sklearn import metrics\n",
        "print(\"Accuracy Score\",metrics.accuracy_score(y_test,y_pred))"
      ],
      "metadata": {
        "colab": {
          "base_uri": "https://localhost:8080/"
        },
        "id": "RdNt_hZfGbuY",
        "outputId": "2c81214e-dab6-4668-af06-a8bbbb7e8d61"
      },
      "execution_count": null,
      "outputs": [
        {
          "output_type": "stream",
          "name": "stdout",
          "text": [
            "Accuracy Score 0.5061014771997431\n"
          ]
        }
      ]
    }
  ]
}