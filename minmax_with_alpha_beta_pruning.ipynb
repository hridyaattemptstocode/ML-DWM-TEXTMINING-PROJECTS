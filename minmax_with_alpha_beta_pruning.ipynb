{
  "nbformat": 4,
  "nbformat_minor": 0,
  "metadata": {
    "colab": {
      "provenance": []
    },
    "kernelspec": {
      "name": "python3",
      "display_name": "Python 3"
    },
    "language_info": {
      "name": "python"
    }
  },
  "cells": [
    {
      "cell_type": "code",
      "execution_count": null,
      "metadata": {
        "id": "FZTpj5zVyykP"
      },
      "outputs": [],
      "source": [
        "function minimax(node, depth, isMaximizingPlayer, alpha, beta):\n",
        "\n",
        "    if node is a leaf node :\n",
        "        return value of the node\n",
        "\n",
        "    if isMaximizingPlayer :\n",
        "        bestVal = -INFINITY\n",
        "        for each child node :\n",
        "            value = minimax(node, depth+1, false, alpha, beta)\n",
        "            bestVal = max( bestVal, value)\n",
        "            alpha = max( alpha, bestVal)\n",
        "            if beta <= alpha:\n",
        "                break\n",
        "        return bestVal\n",
        "   else :\n",
        "        bestVal = +INFINITY\n",
        "        for each child node :\n",
        "            value = minimax(node, depth+1, true, alpha, beta)\n",
        "            bestVal = min( bestVal, value)\n",
        "            beta = min( beta, bestVal)\n",
        "            if beta <= alpha:\n",
        "                break\n",
        "        return bestVal\n",
        "\n"
      ]
    },
    {
      "cell_type": "code",
      "source": [
        "# Python3 program to demonstrate\n",
        "# working of Alpha-Beta Pruning\n",
        "\n",
        "# Initial values of Alpha and Beta\n",
        "MAX, MIN = 1000, -1000\n",
        "\n",
        "# Returns optimal value for current player\n",
        "#(Initially called for root and maximizer)\n",
        "def minimax(depth, nodeIndex, maximizingPlayer,\n",
        "\t\t\tvalues, alpha, beta):\n",
        "\n",
        "\t# Terminating condition. i.e\n",
        "\t# leaf node is reached\n",
        "\tif depth == 3:\n",
        "\t\treturn values[nodeIndex]\n",
        "\n",
        "\tif maximizingPlayer:\n",
        "\n",
        "\t\tbest = MIN\n",
        "\n",
        "\t\t# Recur for left and right children\n",
        "\t\tfor i in range(0, 2):\n",
        "\n",
        "\t\t\tval = minimax(depth + 1, nodeIndex * 2 + i,\n",
        "\t\t\t\t\t\tFalse, values, alpha, beta)\n",
        "\t\t\tbest = max(best, val)\n",
        "\t\t\talpha = max(alpha, best)\n",
        "\n",
        "\t\t\t# Alpha Beta Pruning\n",
        "\t\t\tif beta <= alpha:\n",
        "\t\t\t\tbreak\n",
        "\n",
        "\t\treturn best\n",
        "\n",
        "\telse:\n",
        "\t\tbest = MAX\n",
        "\n",
        "\t\t# Recur for left and\n",
        "\t\t# right children\n",
        "\t\tfor i in range(0, 2):\n",
        "\n",
        "\t\t\tval = minimax(depth + 1, nodeIndex * 2 + i,\n",
        "\t\t\t\t\t\t\tTrue, values, alpha, beta)\n",
        "\t\t\tbest = min(best, val)\n",
        "\t\t\tbeta = min(beta, best)\n",
        "\n",
        "\t\t\t# Alpha Beta Pruning\n",
        "\t\t\tif beta <= alpha:\n",
        "\t\t\t\tbreak\n",
        "\n",
        "\t\treturn best\n",
        "\n",
        "# Driver Code\n",
        "if __name__ == \"__main__\":\n",
        "\n",
        "\tvalues = [3, 5, 6, 9, 1, 2, 0, -1]\n",
        "\tprint(\"The optimal value is :\", minimax(0, 0, True, values, MIN, MAX))\n",
        "\n",
        "# This code is contributed by Rituraj Jain\n"
      ],
      "metadata": {
        "id": "f0MkmBdhFSMc",
        "outputId": "d5b7eeb3-0cc7-4aa2-c2c5-47ada141abdb",
        "colab": {
          "base_uri": "https://localhost:8080/"
        }
      },
      "execution_count": null,
      "outputs": [
        {
          "output_type": "stream",
          "name": "stdout",
          "text": [
            "The optimal value is : 5\n"
          ]
        }
      ]
    }
  ]
}