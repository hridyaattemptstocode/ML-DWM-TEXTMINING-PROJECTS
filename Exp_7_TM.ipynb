{
  "nbformat": 4,
  "nbformat_minor": 0,
  "metadata": {
    "colab": {
      "provenance": []
    },
    "kernelspec": {
      "name": "python3",
      "display_name": "Python 3"
    },
    "language_info": {
      "name": "python"
    }
  },
  "cells": [
    {
      "cell_type": "code",
      "source": [
        "import networkx as nx\n",
        "import numpy as np"
      ],
      "metadata": {
        "id": "rwVyZ8CIv1bR"
      },
      "execution_count": null,
      "outputs": []
    },
    {
      "cell_type": "code",
      "source": [
        "\n",
        "def generate_random_graph(num_vertices, num_edges):\n",
        "    G = nx.gnm_random_graph(num_vertices, num_edges,directed=True)\n",
        "    return G"
      ],
      "metadata": {
        "id": "1kRe1L6HwT5p"
      },
      "execution_count": null,
      "outputs": []
    },
    {
      "cell_type": "code",
      "source": [
        "def google_matrix(G, alpha=0.80):\n",
        "    M = np.asmatrix(nx.to_numpy_array(G))\n",
        "    N = len(G)\n",
        "    if N == 0:\n",
        "        return M\n",
        "\n",
        "    # Personalization vector\n",
        "    p = np.repeat(1.0 / N, N)\n",
        "\n",
        "    # Dangling nodes\n",
        "    dangling_weights = p\n",
        "    dangling_nodes = np.where(M.sum(axis=1) == 0)[0]\n",
        "\n",
        "    # Assign dangling_weights to any dangling nodes\n",
        "    # (nodes with no out links)\n",
        "    for node in dangling_nodes:\n",
        "        M[node] = dangling_weights\n",
        "    print(M)\n",
        "    M /= M.sum(axis=1)  # Normalize rows to sum to 1\n",
        "\n",
        "    return alpha * M + (1 - alpha) * p"
      ],
      "metadata": {
        "id": "NVho3nSeuR2d"
      },
      "execution_count": null,
      "outputs": []
    },
    {
      "cell_type": "code",
      "source": [
        "def pagerank_numpy(G, alpha=0.80):\n",
        "    if len(G) == 0:\n",
        "        return {}\n",
        "    M = google_matrix(G, alpha)\n",
        "\n",
        "    # use numpy LAPACK solver\n",
        "    eigenvalues, eigenvectors = np.linalg.eig(M.T)\n",
        "    ind = np.argmax(eigenvalues)\n",
        "\n",
        "\n",
        "\n",
        "\n",
        "\n",
        "\n",
        "\n",
        "\n",
        "    # eigenvector of largest eigenvalue is at ind, normalized\n",
        "    largest = np.array(eigenvectors[:, ind]).flatten().real\n",
        "    norm = float(largest.sum())\n",
        "    return dict(zip(G, map(float, largest / norm)))"
      ],
      "metadata": {
        "id": "L9nQ1PNuuu6O"
      },
      "execution_count": null,
      "outputs": []
    },
    {
      "cell_type": "code",
      "source": [
        "num_vertices = 100\n",
        "num_edges = 1000\n",
        "\n",
        "G = generate_random_graph(num_vertices, num_edges)\n",
        "pagerank_scores = pagerank_numpy(G, alpha=0.80)\n",
        "\n",
        "# Print top 10 scores\n",
        "top_scores = sorted(pagerank_scores.items(), key=lambda x: x[1], reverse=True)[:10]\n",
        "print(\"Top 10 PageRank Scores:\")\n",
        "for node, score in top_scores:\n",
        "    print(f\"{node}: {score*100}\")"
      ],
      "metadata": {
        "colab": {
          "base_uri": "https://localhost:8080/"
        },
        "id": "q_FRkMk1uzy1",
        "outputId": "aa2eeebb-ffce-440c-c37b-336dd8f01c30"
      },
      "execution_count": null,
      "outputs": [
        {
          "output_type": "stream",
          "name": "stdout",
          "text": [
            "[[0. 0. 0. ... 0. 0. 0.]\n",
            " [0. 0. 0. ... 0. 0. 0.]\n",
            " [0. 0. 0. ... 0. 0. 0.]\n",
            " ...\n",
            " [0. 0. 0. ... 0. 0. 0.]\n",
            " [0. 0. 0. ... 0. 0. 0.]\n",
            " [0. 0. 0. ... 0. 0. 0.]]\n",
            "Top 10 PageRank Scores:\n",
            "70: 1.7519414949508383\n",
            "57: 1.690176403007802\n",
            "99: 1.5231817899758402\n",
            "16: 1.5022330270116018\n",
            "25: 1.4568316414321147\n",
            "35: 1.4516532180126431\n",
            "9: 1.4452298578610439\n",
            "5: 1.439037099144808\n",
            "13: 1.428340796360815\n",
            "81: 1.4163305525134693\n"
          ]
        }
      ]
    }
  ]
}