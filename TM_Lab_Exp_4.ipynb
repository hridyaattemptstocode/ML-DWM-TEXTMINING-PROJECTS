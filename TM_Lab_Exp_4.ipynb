{
  "cells": [
    {
      "cell_type": "markdown",
      "metadata": {
        "id": "voQPt0s5yh0B"
      },
      "source": [
        "## Importing Libraries:"
      ]
    },
    {
      "cell_type": "code",
      "execution_count": null,
      "metadata": {
        "id": "JQOR9dzZyh0H"
      },
      "outputs": [],
      "source": [
        "\n",
        "import numpy  as np\n",
        "import pandas as pd\n",
        "import json\n",
        "\n",
        "# Corpus Processing\n",
        "import re\n",
        "import nltk.corpus\n",
        "from nltk.tokenize\n",
        "import word_tokenize\n",
        "from nltk\n",
        "import SnowballStemmer\n",
        "from sklearn.feature_extraction.text\n",
        "import TfidfVectorizer\n",
        "from sklearn.preprocessing\n",
        "import normalize\n",
        "\n",
        "# K-Means\n",
        "from sklearn import cluster\n",
        "\n",
        "# Visualization and Analysis\n",
        "import matplotlib.pyplot  as plt\n",
        "import matplotlib.cm      as cm\n",
        "import seaborn            as sns\n",
        "from sklearn.metrics\n",
        "import silhouette_samples, silhouette_score\n",
        "from unidecode import unidecode"
      ]
    },
    {
      "cell_type": "code",
      "execution_count": null,
      "metadata": {
        "id": "j_VeYY-Iyh0K",
        "outputId": "d2e022df-ded1-4155-b2f2-46a811151003"
      },
      "outputs": [
        {
          "name": "stdout",
          "output_type": "stream",
          "text": [
            "Collecting Unidecode\n",
            "  Downloading Unidecode-1.3.7-py3-none-any.whl (235 kB)\n",
            "     -------------------------------------- 235.5/235.5 kB 3.6 MB/s eta 0:00:00\n",
            "Installing collected packages: Unidecode\n",
            "Successfully installed Unidecode-1.3.7\n",
            "Note: you may need to restart the kernel to use updated packages.\n"
          ]
        },
        {
          "name": "stderr",
          "output_type": "stream",
          "text": [
            "\n",
            "[notice] A new release of pip is available: 21.3.1 -> 23.3.1\n",
            "[notice] To update, run: python.exe -m pip install --upgrade pip\n"
          ]
        }
      ],
      "source": [
        "#pip install Unidecode"
      ]
    },
    {
      "cell_type": "code",
      "execution_count": null,
      "metadata": {
        "id": "CVh7zCFJyh0M",
        "outputId": "f9e79a70-5317-422d-bcf0-cee40208a53b"
      },
      "outputs": [
        {
          "data": {
            "text/html": [
              "<div>\n",
              "<style scoped>\n",
              "    .dataframe tbody tr th:only-of-type {\n",
              "        vertical-align: middle;\n",
              "    }\n",
              "\n",
              "    .dataframe tbody tr th {\n",
              "        vertical-align: top;\n",
              "    }\n",
              "\n",
              "    .dataframe thead th {\n",
              "        text-align: right;\n",
              "    }\n",
              "</style>\n",
              "<table border=\"1\" class=\"dataframe\">\n",
              "  <thead>\n",
              "    <tr style=\"text-align: right;\">\n",
              "      <th></th>\n",
              "      <th>country</th>\n",
              "      <th>alpha-2</th>\n",
              "      <th>alpha-3</th>\n",
              "      <th>continent</th>\n",
              "      <th>anthem</th>\n",
              "    </tr>\n",
              "  </thead>\n",
              "  <tbody>\n",
              "    <tr>\n",
              "      <th>0</th>\n",
              "      <td>Albania</td>\n",
              "      <td>AL</td>\n",
              "      <td>ALB</td>\n",
              "      <td>Europe</td>\n",
              "      <td>Around our flag we stand united, With one wish...</td>\n",
              "    </tr>\n",
              "    <tr>\n",
              "      <th>1</th>\n",
              "      <td>Armenia</td>\n",
              "      <td>AM</td>\n",
              "      <td>ARM</td>\n",
              "      <td>Europe</td>\n",
              "      <td>Our Fatherland, free, independent, That has fo...</td>\n",
              "    </tr>\n",
              "    <tr>\n",
              "      <th>2</th>\n",
              "      <td>Austria</td>\n",
              "      <td>AT</td>\n",
              "      <td>AUT</td>\n",
              "      <td>Europe</td>\n",
              "      <td>Land of mountains, land by the river, Land of ...</td>\n",
              "    </tr>\n",
              "    <tr>\n",
              "      <th>3</th>\n",
              "      <td>Azerbaijan</td>\n",
              "      <td>AZ</td>\n",
              "      <td>AZE</td>\n",
              "      <td>Europe</td>\n",
              "      <td>Azerbaijan, Azerbaijan! The glorious Fatherlan...</td>\n",
              "    </tr>\n",
              "    <tr>\n",
              "      <th>4</th>\n",
              "      <td>Belarus</td>\n",
              "      <td>BY</td>\n",
              "      <td>BLR</td>\n",
              "      <td>Europe</td>\n",
              "      <td>We, Belarusians, are peaceful people, Wholehea...</td>\n",
              "    </tr>\n",
              "    <tr>\n",
              "      <th>5</th>\n",
              "      <td>Belgium</td>\n",
              "      <td>BE</td>\n",
              "      <td>BEL</td>\n",
              "      <td>Europe</td>\n",
              "      <td>O dear Belgium, O holy land of the fathers Ã¢â...</td>\n",
              "    </tr>\n",
              "  </tbody>\n",
              "</table>\n",
              "</div>"
            ],
            "text/plain": [
              "      country alpha-2 alpha-3 continent  \\\n",
              "0     Albania      AL     ALB    Europe   \n",
              "1     Armenia      AM     ARM    Europe   \n",
              "2     Austria      AT     AUT    Europe   \n",
              "3  Azerbaijan      AZ     AZE    Europe   \n",
              "4     Belarus      BY     BLR    Europe   \n",
              "5     Belgium      BE     BEL    Europe   \n",
              "\n",
              "                                              anthem  \n",
              "0  Around our flag we stand united, With one wish...  \n",
              "1  Our Fatherland, free, independent, That has fo...  \n",
              "2  Land of mountains, land by the river, Land of ...  \n",
              "3  Azerbaijan, Azerbaijan! The glorious Fatherlan...  \n",
              "4  We, Belarusians, are peaceful people, Wholehea...  \n",
              "5  O dear Belgium, O holy land of the fathers Ã¢â...  "
            ]
          },
          "execution_count": 2,
          "metadata": {},
          "output_type": "execute_result"
        }
      ],
      "source": [
        "#PART1\n",
        "#data-preprocessing\n",
        "\n",
        "data = pd.read_csv(\"National anthems.csv\") #, encoding='utf-8')\n",
        "data.columns = map(str.lower, data.columns)\n",
        "\n",
        "#continents = ['Europe', 'South_America', 'North_America']\n",
        "#data = data.loc[data['continent'].isin(continents)]\n",
        "data.head(6)"
      ]
    },
    {
      "cell_type": "code",
      "execution_count": null,
      "metadata": {
        "id": "ou45NmQtyh0M",
        "outputId": "525e02e6-6496-4cfc-a237-d61a229e1b5b"
      },
      "outputs": [
        {
          "data": {
            "text/plain": [
              "(190, 5)"
            ]
          },
          "execution_count": 3,
          "metadata": {},
          "output_type": "execute_result"
        }
      ],
      "source": [
        "data.shape"
      ]
    },
    {
      "cell_type": "code",
      "execution_count": null,
      "metadata": {
        "id": "ags-0cwYyh0O",
        "outputId": "3df4fb40-b902-4af8-cd94-6a49aae78d54"
      },
      "outputs": [
        {
          "data": {
            "text/plain": [
              "\"O Lord, bless the nation of Hungary With your grace and bounty Extend over it your guarding arm During strife with its enemies Long torn by ill fate Bring upon it a time of relief This nation has suffered for all sins Of the past and of the future! You brought our ancestors up Over the Carpathians' holy peaks By You was won a beautiful homeland For Bendeguz's sons And wherever flow the rivers of The Tisza and the Danube ÃƒÂ\\x81rpÃƒÂ¡d our hero's \""
            ]
          },
          "execution_count": 4,
          "metadata": {},
          "output_type": "execute_result"
        }
      ],
      "source": [
        "corpus = data['anthem'].tolist()\n",
        "corpus[18][0:447]"
      ]
    },
    {
      "cell_type": "code",
      "execution_count": null,
      "metadata": {
        "id": "WhPF9DcVyh0Q"
      },
      "outputs": [],
      "source": [
        "# removes a list of words (ie. stopwords) from a tokenized list.\n",
        "def removeWords(listOfTokens, listOfWords):\n",
        "    return [token for token in listOfTokens if token not in listOfWords]\n",
        "\n",
        "# applies stemming to a list of tokenized words\n",
        "def applyStemming(listOfTokens, stemmer):\n",
        "    return [stemmer.stem(token) for token in listOfTokens]\n",
        "\n",
        "# removes any words composed of less than 2 or more than 21 letters\n",
        "def twoLetters(listOfTokens):\n",
        "    twoLetterWord = []\n",
        "    for token in listOfTokens:\n",
        "        if len(token) <= 2 or len(token) >= 21:\n",
        "            twoLetterWord.append(token)\n",
        "    return twoLetterWord"
      ]
    },
    {
      "cell_type": "code",
      "execution_count": null,
      "metadata": {
        "id": "Q65tSeLgyh0R"
      },
      "outputs": [],
      "source": [
        "def processCorpus(corpus, language):\n",
        "    stopwords = nltk.corpus.stopwords.words(language)\n",
        "    param_stemmer = SnowballStemmer(language)\n",
        "    #countries_list = [line.rstrip('\\n') for line in open('lists/countries.txt')] # Load .txt file line by line\n",
        "    #nationalities_list = [line.rstrip('\\n') for line in open('lists/nationalities.txt')] # Load .txt file line by line\n",
        "    #other_words = [line.rstrip('\\n') for line in open('lists/stopwords_scrapmaker.txt')] # Load .txt file line by line\n",
        "\n",
        "    for document in corpus:\n",
        "        index = corpus.index(document)\n",
        "        corpus[index] = corpus[index].replace(u'\\ufffd', '8')   # Replaces the ASCII '�' symbol with '8'\n",
        "        corpus[index] = corpus[index].replace(',', '')          # Removes commas\n",
        "        corpus[index] = corpus[index].rstrip('\\n')              # Removes line breaks\n",
        "        corpus[index] = corpus[index].casefold()                # Makes all letters lowercase\n",
        "\n",
        "        corpus[index] = re.sub('\\W_',' ', corpus[index])        # removes specials characters and leaves only words\n",
        "        corpus[index] = re.sub(\"\\S*\\d\\S*\",\" \", corpus[index])   # removes numbers and words concatenated with numbers IE h4ck3r. Removes road names such as BR-381.\n",
        "        corpus[index] = re.sub(\"\\S*@\\S*\\s?\",\" \", corpus[index]) # removes emails and mentions (words with @)\n",
        "        corpus[index] = re.sub(r'http\\S+', '', corpus[index])   # removes URLs with http\n",
        "        corpus[index] = re.sub(r'www\\S+', '', corpus[index])    # removes URLs with www\n",
        "\n",
        "        listOfTokens = word_tokenize(corpus[index])\n",
        "        twoLetterWord = twoLetters(listOfTokens)\n",
        "\n",
        "        listOfTokens = removeWords(listOfTokens, stopwords)\n",
        "        listOfTokens = removeWords(listOfTokens, twoLetterWord)\n",
        "        #listOfTokens = removeWords(listOfTokens, countries_list)\n",
        "        #listOfTokens = removeWords(listOfTokens, nationalities_list)\n",
        "        #listOfTokens = removeWords(listOfTokens, other_words)\n",
        "\n",
        "        listOfTokens = applyStemming(listOfTokens, param_stemmer)\n",
        "        #listOfTokens = removeWords(listOfTokens, other_words)\n",
        "\n",
        "        corpus[index]   = \" \".join(listOfTokens)\n",
        "        corpus[index] = unidecode(corpus[index]) # getting rid of accents in certain countries national anthems\n",
        "\n",
        "    return corpus"
      ]
    },
    {
      "cell_type": "code",
      "execution_count": null,
      "metadata": {
        "id": "CbAbuO-Ryh0S",
        "outputId": "f8688f1f-dd1c-4d17-c1dd-6d21c58812b4"
      },
      "outputs": [
        {
          "data": {
            "text/plain": [
              "'lord bless nation hungari grace bounti extend guard arm strife enemi long torn ill fate bring upon time relief nation suffer sin past futur brought ancestor carpathian holi peak beauti homeland bendeguz son wherev flow river tisza danub afarpafa!d hero descend root bloom plain kun ripen wheat grape field tokaj drip sweet nectar flag often plant wild turk earthwork mafa!tyafa! grave armi whimper vienna proud fort sin anger gather bosom struck lightn thunder'"
            ]
          },
          "execution_count": 7,
          "metadata": {},
          "output_type": "execute_result"
        }
      ],
      "source": [
        "language = 'english'\n",
        "corpus = processCorpus(corpus, language)\n",
        "corpus[18][0:460]"
      ]
    },
    {
      "cell_type": "code",
      "execution_count": null,
      "metadata": {
        "id": "cXBpeg53yh0S",
        "outputId": "0f897e1d-6f0b-44b1-aa69-ecd6b25df6a2"
      },
      "outputs": [
        {
          "name": "stdout",
          "output_type": "stream",
          "text": [
            "190 rows\n"
          ]
        },
        {
          "name": "stderr",
          "output_type": "stream",
          "text": [
            "C:\\Users\\JITHIN\\miniconda3\\lib\\site-packages\\sklearn\\utils\\deprecation.py:87: FutureWarning: Function get_feature_names is deprecated; get_feature_names is deprecated in 1.0 and will be removed in 1.2. Please use get_feature_names_out instead.\n",
            "  warnings.warn(msg, category=FutureWarning)\n"
          ]
        },
        {
          "data": {
            "text/html": [
              "<div>\n",
              "<style scoped>\n",
              "    .dataframe tbody tr th:only-of-type {\n",
              "        vertical-align: middle;\n",
              "    }\n",
              "\n",
              "    .dataframe tbody tr th {\n",
              "        vertical-align: top;\n",
              "    }\n",
              "\n",
              "    .dataframe thead th {\n",
              "        text-align: right;\n",
              "    }\n",
              "</style>\n",
              "<table border=\"1\" class=\"dataframe\">\n",
              "  <thead>\n",
              "    <tr style=\"text-align: right;\">\n",
              "      <th></th>\n",
              "      <th>0</th>\n",
              "      <th>1</th>\n",
              "      <th>2</th>\n",
              "      <th>3</th>\n",
              "      <th>4</th>\n",
              "      <th>5</th>\n",
              "      <th>6</th>\n",
              "      <th>7</th>\n",
              "      <th>8</th>\n",
              "      <th>9</th>\n",
              "      <th>...</th>\n",
              "      <th>180</th>\n",
              "      <th>181</th>\n",
              "      <th>182</th>\n",
              "      <th>183</th>\n",
              "      <th>184</th>\n",
              "      <th>185</th>\n",
              "      <th>186</th>\n",
              "      <th>187</th>\n",
              "      <th>188</th>\n",
              "      <th>189</th>\n",
              "    </tr>\n",
              "  </thead>\n",
              "  <tbody>\n",
              "    <tr>\n",
              "      <th>albania</th>\n",
              "      <td>0.305070</td>\n",
              "      <td>0.000000</td>\n",
              "      <td>0.000000</td>\n",
              "      <td>0.000000</td>\n",
              "      <td>0.000000</td>\n",
              "      <td>0.000000</td>\n",
              "      <td>0.0</td>\n",
              "      <td>0.0</td>\n",
              "      <td>0.0</td>\n",
              "      <td>0.0</td>\n",
              "      <td>...</td>\n",
              "      <td>0.0</td>\n",
              "      <td>0.0</td>\n",
              "      <td>0.0</td>\n",
              "      <td>0.0</td>\n",
              "      <td>0.0</td>\n",
              "      <td>0.0</td>\n",
              "      <td>0.0</td>\n",
              "      <td>0.0</td>\n",
              "      <td>0.0</td>\n",
              "      <td>0.000000</td>\n",
              "    </tr>\n",
              "    <tr>\n",
              "      <th>sacr</th>\n",
              "      <td>0.276738</td>\n",
              "      <td>0.000000</td>\n",
              "      <td>0.000000</td>\n",
              "      <td>0.000000</td>\n",
              "      <td>0.089276</td>\n",
              "      <td>0.000000</td>\n",
              "      <td>0.0</td>\n",
              "      <td>0.0</td>\n",
              "      <td>0.0</td>\n",
              "      <td>0.0</td>\n",
              "      <td>...</td>\n",
              "      <td>0.0</td>\n",
              "      <td>0.0</td>\n",
              "      <td>0.0</td>\n",
              "      <td>0.0</td>\n",
              "      <td>0.0</td>\n",
              "      <td>0.0</td>\n",
              "      <td>0.0</td>\n",
              "      <td>0.0</td>\n",
              "      <td>0.0</td>\n",
              "      <td>0.000000</td>\n",
              "    </tr>\n",
              "    <tr>\n",
              "      <th>fatherland</th>\n",
              "      <td>0.224386</td>\n",
              "      <td>0.110326</td>\n",
              "      <td>0.068473</td>\n",
              "      <td>0.142458</td>\n",
              "      <td>0.000000</td>\n",
              "      <td>0.081009</td>\n",
              "      <td>0.0</td>\n",
              "      <td>0.0</td>\n",
              "      <td>0.0</td>\n",
              "      <td>0.0</td>\n",
              "      <td>...</td>\n",
              "      <td>0.0</td>\n",
              "      <td>0.0</td>\n",
              "      <td>0.0</td>\n",
              "      <td>0.0</td>\n",
              "      <td>0.0</td>\n",
              "      <td>0.0</td>\n",
              "      <td>0.0</td>\n",
              "      <td>0.0</td>\n",
              "      <td>0.0</td>\n",
              "      <td>0.000000</td>\n",
              "    </tr>\n",
              "    <tr>\n",
              "      <th>proclaim</th>\n",
              "      <td>0.216748</td>\n",
              "      <td>0.000000</td>\n",
              "      <td>0.000000</td>\n",
              "      <td>0.000000</td>\n",
              "      <td>0.000000</td>\n",
              "      <td>0.000000</td>\n",
              "      <td>0.0</td>\n",
              "      <td>0.0</td>\n",
              "      <td>0.0</td>\n",
              "      <td>0.0</td>\n",
              "      <td>...</td>\n",
              "      <td>0.0</td>\n",
              "      <td>0.0</td>\n",
              "      <td>0.0</td>\n",
              "      <td>0.0</td>\n",
              "      <td>0.0</td>\n",
              "      <td>0.0</td>\n",
              "      <td>0.0</td>\n",
              "      <td>0.0</td>\n",
              "      <td>0.0</td>\n",
              "      <td>0.104170</td>\n",
              "    </tr>\n",
              "    <tr>\n",
              "      <th>upon</th>\n",
              "      <td>0.194497</td>\n",
              "      <td>0.000000</td>\n",
              "      <td>0.000000</td>\n",
              "      <td>0.000000</td>\n",
              "      <td>0.000000</td>\n",
              "      <td>0.000000</td>\n",
              "      <td>0.0</td>\n",
              "      <td>0.0</td>\n",
              "      <td>0.0</td>\n",
              "      <td>0.0</td>\n",
              "      <td>...</td>\n",
              "      <td>0.0</td>\n",
              "      <td>0.0</td>\n",
              "      <td>0.0</td>\n",
              "      <td>0.0</td>\n",
              "      <td>0.0</td>\n",
              "      <td>0.0</td>\n",
              "      <td>0.0</td>\n",
              "      <td>0.0</td>\n",
              "      <td>0.0</td>\n",
              "      <td>0.093476</td>\n",
              "    </tr>\n",
              "  </tbody>\n",
              "</table>\n",
              "<p>5 rows × 190 columns</p>\n",
              "</div>"
            ],
            "text/plain": [
              "                 0         1         2         3         4         5    6    \\\n",
              "albania     0.305070  0.000000  0.000000  0.000000  0.000000  0.000000  0.0   \n",
              "sacr        0.276738  0.000000  0.000000  0.000000  0.089276  0.000000  0.0   \n",
              "fatherland  0.224386  0.110326  0.068473  0.142458  0.000000  0.081009  0.0   \n",
              "proclaim    0.216748  0.000000  0.000000  0.000000  0.000000  0.000000  0.0   \n",
              "upon        0.194497  0.000000  0.000000  0.000000  0.000000  0.000000  0.0   \n",
              "\n",
              "            7    8    9    ...  180  181  182  183  184  185  186  187  188  \\\n",
              "albania     0.0  0.0  0.0  ...  0.0  0.0  0.0  0.0  0.0  0.0  0.0  0.0  0.0   \n",
              "sacr        0.0  0.0  0.0  ...  0.0  0.0  0.0  0.0  0.0  0.0  0.0  0.0  0.0   \n",
              "fatherland  0.0  0.0  0.0  ...  0.0  0.0  0.0  0.0  0.0  0.0  0.0  0.0  0.0   \n",
              "proclaim    0.0  0.0  0.0  ...  0.0  0.0  0.0  0.0  0.0  0.0  0.0  0.0  0.0   \n",
              "upon        0.0  0.0  0.0  ...  0.0  0.0  0.0  0.0  0.0  0.0  0.0  0.0  0.0   \n",
              "\n",
              "                 189  \n",
              "albania     0.000000  \n",
              "sacr        0.000000  \n",
              "fatherland  0.000000  \n",
              "proclaim    0.104170  \n",
              "upon        0.093476  \n",
              "\n",
              "[5 rows x 190 columns]"
            ]
          },
          "execution_count": 8,
          "metadata": {},
          "output_type": "execute_result"
        }
      ],
      "source": [
        "vectorizer = TfidfVectorizer()\n",
        "X = vectorizer.fit_transform(corpus)\n",
        "tf_idf = pd.DataFrame(data = X.toarray(), columns=vectorizer.get_feature_names())\n",
        "\n",
        "final_df = tf_idf\n",
        "\n",
        "print(\"{} rows\".format(final_df.shape[0]))\n",
        "final_df.T.nlargest(5, 0)"
      ]
    },
    {
      "cell_type": "code",
      "execution_count": null,
      "metadata": {
        "id": "pjJmi7_qyh0T",
        "outputId": "dcb8c98f-0285-4824-d2af-2e24c06f1d6d"
      },
      "outputs": [
        {
          "data": {
            "text/plain": [
              "(190, 2822)"
            ]
          },
          "execution_count": 8,
          "metadata": {},
          "output_type": "execute_result"
        }
      ],
      "source": [
        "final_df.shape"
      ]
    },
    {
      "cell_type": "code",
      "execution_count": null,
      "metadata": {
        "id": "ufrD04Wzyh0T",
        "outputId": "79739b08-6354-4647-e577-20ef1c723252"
      },
      "outputs": [
        {
          "data": {
            "text/html": [
              "<div>\n",
              "<style scoped>\n",
              "    .dataframe tbody tr th:only-of-type {\n",
              "        vertical-align: middle;\n",
              "    }\n",
              "\n",
              "    .dataframe tbody tr th {\n",
              "        vertical-align: top;\n",
              "    }\n",
              "\n",
              "    .dataframe thead th {\n",
              "        text-align: right;\n",
              "    }\n",
              "</style>\n",
              "<table border=\"1\" class=\"dataframe\">\n",
              "  <thead>\n",
              "    <tr style=\"text-align: right;\">\n",
              "      <th></th>\n",
              "      <th>0</th>\n",
              "      <th>1</th>\n",
              "      <th>2</th>\n",
              "      <th>3</th>\n",
              "      <th>4</th>\n",
              "      <th>5</th>\n",
              "      <th>6</th>\n",
              "      <th>7</th>\n",
              "      <th>8</th>\n",
              "      <th>9</th>\n",
              "      <th>...</th>\n",
              "      <th>180</th>\n",
              "      <th>181</th>\n",
              "      <th>182</th>\n",
              "      <th>183</th>\n",
              "      <th>184</th>\n",
              "      <th>185</th>\n",
              "      <th>186</th>\n",
              "      <th>187</th>\n",
              "      <th>188</th>\n",
              "      <th>189</th>\n",
              "    </tr>\n",
              "  </thead>\n",
              "  <tbody>\n",
              "    <tr>\n",
              "      <th>albania</th>\n",
              "      <td>0.305070</td>\n",
              "      <td>0.000000</td>\n",
              "      <td>0.000000</td>\n",
              "      <td>0.000000</td>\n",
              "      <td>0.000000</td>\n",
              "      <td>0.000000</td>\n",
              "      <td>0.0</td>\n",
              "      <td>0.0</td>\n",
              "      <td>0.0</td>\n",
              "      <td>0.0</td>\n",
              "      <td>...</td>\n",
              "      <td>0.0</td>\n",
              "      <td>0.0</td>\n",
              "      <td>0.0</td>\n",
              "      <td>0.0</td>\n",
              "      <td>0.0</td>\n",
              "      <td>0.0</td>\n",
              "      <td>0.0</td>\n",
              "      <td>0.0</td>\n",
              "      <td>0.0</td>\n",
              "      <td>0.000000</td>\n",
              "    </tr>\n",
              "    <tr>\n",
              "      <th>sacr</th>\n",
              "      <td>0.276738</td>\n",
              "      <td>0.000000</td>\n",
              "      <td>0.000000</td>\n",
              "      <td>0.000000</td>\n",
              "      <td>0.089276</td>\n",
              "      <td>0.000000</td>\n",
              "      <td>0.0</td>\n",
              "      <td>0.0</td>\n",
              "      <td>0.0</td>\n",
              "      <td>0.0</td>\n",
              "      <td>...</td>\n",
              "      <td>0.0</td>\n",
              "      <td>0.0</td>\n",
              "      <td>0.0</td>\n",
              "      <td>0.0</td>\n",
              "      <td>0.0</td>\n",
              "      <td>0.0</td>\n",
              "      <td>0.0</td>\n",
              "      <td>0.0</td>\n",
              "      <td>0.0</td>\n",
              "      <td>0.000000</td>\n",
              "    </tr>\n",
              "    <tr>\n",
              "      <th>fatherland</th>\n",
              "      <td>0.224386</td>\n",
              "      <td>0.110326</td>\n",
              "      <td>0.068473</td>\n",
              "      <td>0.142458</td>\n",
              "      <td>0.000000</td>\n",
              "      <td>0.081009</td>\n",
              "      <td>0.0</td>\n",
              "      <td>0.0</td>\n",
              "      <td>0.0</td>\n",
              "      <td>0.0</td>\n",
              "      <td>...</td>\n",
              "      <td>0.0</td>\n",
              "      <td>0.0</td>\n",
              "      <td>0.0</td>\n",
              "      <td>0.0</td>\n",
              "      <td>0.0</td>\n",
              "      <td>0.0</td>\n",
              "      <td>0.0</td>\n",
              "      <td>0.0</td>\n",
              "      <td>0.0</td>\n",
              "      <td>0.000000</td>\n",
              "    </tr>\n",
              "    <tr>\n",
              "      <th>proclaim</th>\n",
              "      <td>0.216748</td>\n",
              "      <td>0.000000</td>\n",
              "      <td>0.000000</td>\n",
              "      <td>0.000000</td>\n",
              "      <td>0.000000</td>\n",
              "      <td>0.000000</td>\n",
              "      <td>0.0</td>\n",
              "      <td>0.0</td>\n",
              "      <td>0.0</td>\n",
              "      <td>0.0</td>\n",
              "      <td>...</td>\n",
              "      <td>0.0</td>\n",
              "      <td>0.0</td>\n",
              "      <td>0.0</td>\n",
              "      <td>0.0</td>\n",
              "      <td>0.0</td>\n",
              "      <td>0.0</td>\n",
              "      <td>0.0</td>\n",
              "      <td>0.0</td>\n",
              "      <td>0.0</td>\n",
              "      <td>0.104170</td>\n",
              "    </tr>\n",
              "    <tr>\n",
              "      <th>upon</th>\n",
              "      <td>0.194497</td>\n",
              "      <td>0.000000</td>\n",
              "      <td>0.000000</td>\n",
              "      <td>0.000000</td>\n",
              "      <td>0.000000</td>\n",
              "      <td>0.000000</td>\n",
              "      <td>0.0</td>\n",
              "      <td>0.0</td>\n",
              "      <td>0.0</td>\n",
              "      <td>0.0</td>\n",
              "      <td>...</td>\n",
              "      <td>0.0</td>\n",
              "      <td>0.0</td>\n",
              "      <td>0.0</td>\n",
              "      <td>0.0</td>\n",
              "      <td>0.0</td>\n",
              "      <td>0.0</td>\n",
              "      <td>0.0</td>\n",
              "      <td>0.0</td>\n",
              "      <td>0.0</td>\n",
              "      <td>0.093476</td>\n",
              "    </tr>\n",
              "  </tbody>\n",
              "</table>\n",
              "<p>5 rows × 190 columns</p>\n",
              "</div>"
            ],
            "text/plain": [
              "                 0         1         2         3         4         5    6    \\\n",
              "albania     0.305070  0.000000  0.000000  0.000000  0.000000  0.000000  0.0   \n",
              "sacr        0.276738  0.000000  0.000000  0.000000  0.089276  0.000000  0.0   \n",
              "fatherland  0.224386  0.110326  0.068473  0.142458  0.000000  0.081009  0.0   \n",
              "proclaim    0.216748  0.000000  0.000000  0.000000  0.000000  0.000000  0.0   \n",
              "upon        0.194497  0.000000  0.000000  0.000000  0.000000  0.000000  0.0   \n",
              "\n",
              "            7    8    9    ...  180  181  182  183  184  185  186  187  188  \\\n",
              "albania     0.0  0.0  0.0  ...  0.0  0.0  0.0  0.0  0.0  0.0  0.0  0.0  0.0   \n",
              "sacr        0.0  0.0  0.0  ...  0.0  0.0  0.0  0.0  0.0  0.0  0.0  0.0  0.0   \n",
              "fatherland  0.0  0.0  0.0  ...  0.0  0.0  0.0  0.0  0.0  0.0  0.0  0.0  0.0   \n",
              "proclaim    0.0  0.0  0.0  ...  0.0  0.0  0.0  0.0  0.0  0.0  0.0  0.0  0.0   \n",
              "upon        0.0  0.0  0.0  ...  0.0  0.0  0.0  0.0  0.0  0.0  0.0  0.0  0.0   \n",
              "\n",
              "                 189  \n",
              "albania     0.000000  \n",
              "sacr        0.000000  \n",
              "fatherland  0.000000  \n",
              "proclaim    0.104170  \n",
              "upon        0.093476  \n",
              "\n",
              "[5 rows x 190 columns]"
            ]
          },
          "execution_count": 9,
          "metadata": {},
          "output_type": "execute_result"
        }
      ],
      "source": [
        "# first 5 words with highest weight on document 0:\n",
        "final_df.T.nlargest(5, 0)"
      ]
    },
    {
      "cell_type": "code",
      "execution_count": null,
      "metadata": {
        "id": "LvXGLMTMyh0U",
        "outputId": "23fcbf2a-d594-4b49-e7d4-7eb7dcebd627"
      },
      "outputs": [
        {
          "data": {
            "text/plain": [
              "numpy.ndarray"
            ]
          },
          "execution_count": 10,
          "metadata": {},
          "output_type": "execute_result"
        }
      ],
      "source": [
        "inp = final_df.to_numpy()\n",
        "type(inp)"
      ]
    },
    {
      "cell_type": "code",
      "execution_count": null,
      "metadata": {
        "id": "tv2xKcQYyh0U",
        "outputId": "dad7edf1-d31c-4e18-c476-65b16189aa81"
      },
      "outputs": [
        {
          "name": "stderr",
          "output_type": "stream",
          "text": [
            "C:\\Users\\JITHIN\\miniconda3\\lib\\site-packages\\sklearn\\cluster\\_kmeans.py:1039: UserWarning: KMeans is known to have a memory leak on Windows with MKL, when there are less chunks than available threads. You can avoid it by setting the environment variable OMP_NUM_THREADS=1.\n",
            "  warnings.warn(\n",
            "C:\\Users\\JITHIN\\miniconda3\\lib\\site-packages\\sklearn\\cluster\\_kmeans.py:1039: UserWarning: KMeans is known to have a memory leak on Windows with MKL, when there are less chunks than available threads. You can avoid it by setting the environment variable OMP_NUM_THREADS=1.\n",
            "  warnings.warn(\n"
          ]
        }
      ],
      "source": [
        "#PART2\n",
        "# k-means clustering\n",
        "\n",
        "from sklearn.cluster import KMeans\n",
        "from scipy.spatial.distance import cdist\n",
        "\n",
        "distortions = []\n",
        "inertias = []\n",
        "mapping1 = {}\n",
        "mapping2 = {}\n",
        "K = range(1, 7)\n",
        "\n",
        "for k in K:\n",
        "    # Building and fitting the model\n",
        "    kmeanModel = KMeans(n_clusters=k).fit(inp)\n",
        "    kmeanModel.fit(inp)\n",
        "\n",
        "    distortions.append(sum(np.min(cdist(inp, kmeanModel.cluster_centers_,\n",
        "                                        'euclidean'), axis=1)) / inp.shape[0])\n",
        "    inertias.append(kmeanModel.inertia_)\n",
        "\n",
        "    mapping1[k] = sum(np.min(cdist(inp, kmeanModel.cluster_centers_,\n",
        "                                   'euclidean'), axis=1)) / inp.shape[0]\n",
        "    mapping2[k] = kmeanModel.inertia_"
      ]
    },
    {
      "cell_type": "code",
      "execution_count": null,
      "metadata": {
        "id": "Qhok97KVyh0U",
        "outputId": "1a8e3a46-de61-492e-e905-d365ecf8591e"
      },
      "outputs": [
        {
          "name": "stdout",
          "output_type": "stream",
          "text": [
            "1 : 0.9751028171420189\n",
            "2 : 0.9690131403062856\n",
            "3 : 0.9645491114041969\n",
            "4 : 0.9599720473622662\n",
            "5 : 0.9554250834957749\n",
            "6 : 0.9521018802684502\n"
          ]
        },
        {
          "data": {
            "image/png": "[encoded data removed]",
            "text/plain": [
              "<Figure size 432x288 with 1 Axes>"
            ]
          },
          "metadata": {
            "needs_background": "light"
          },
          "output_type": "display_data"
        }
      ],
      "source": [
        "# Tabulating and Visualizing the Results\n",
        "# a) Using the different values of Distortion: (this is not needed, elbow for inertia is enough)\n",
        "for key, val in mapping1.items():\n",
        "    print(f'{key} : {val}')\n",
        "\n",
        "\n",
        "plt.plot(K, distortions, 'bx-')\n",
        "plt.xlabel('Values of K')\n",
        "plt.ylabel('Distortion')\n",
        "plt.title('The Elbow Method using Distortion')\n",
        "plt.show()"
      ]
    },
    {
      "cell_type": "code",
      "execution_count": null,
      "metadata": {
        "id": "V-7O4Pg5yh0V",
        "outputId": "e465bead-17c9-4cfc-f9a7-016014e8a9d5"
      },
      "outputs": [
        {
          "name": "stdout",
          "output_type": "stream",
          "text": [
            "1 : 180.69187270958923\n",
            "2 : 178.4693805034108\n",
            "3 : 176.86066569246918\n",
            "4 : 175.2193730358879\n",
            "5 : 173.59654027225005\n",
            "6 : 172.46454029471903\n"
          ]
        },
        {
          "data": {
            "image/png": "[encoded data removed]",
            "text/plain": [
              "<Figure size 432x288 with 1 Axes>"
            ]
          },
          "metadata": {
            "needs_background": "light"
          },
          "output_type": "display_data"
        }
      ],
      "source": [
        "for key, val in mapping2.items():\n",
        "    print(f'{key} : {val}')\n",
        "\n",
        "plt.plot(K, inertias, 'bx-')\n",
        "plt.xlabel('Values of K')\n",
        "plt.ylabel('Inertia')\n",
        "plt.title('The Elbow Method using Inertia')\n",
        "plt.show()"
      ]
    },
    {
      "cell_type": "markdown",
      "metadata": {
        "id": "6XGdjfsvyh0V"
      },
      "source": [
        "## K-Means\n",
        "\n",
        "##### Function that runs the K-Means algorithm with k=3 ###"
      ]
    },
    {
      "cell_type": "code",
      "execution_count": null,
      "metadata": {
        "id": "0k2nJEDfyh0V",
        "outputId": "7b6d1ee5-9cd5-4fbb-cea9-988dfc5085d9"
      },
      "outputs": [
        {
          "name": "stdout",
          "output_type": "stream",
          "text": [
            "176.28419718281384\n"
          ]
        }
      ],
      "source": [
        "from sklearn import metrics\n",
        "\n",
        "'''\n",
        "k_means_25 = KMeans(n_clusters=25)\n",
        "model = k_means_25.fit(inp)\n",
        "y_hat_25 = k_means_25.predict(inp)\n",
        "labels_25 = k_means_25.labels_\n",
        "'''\n",
        "\n",
        "\n",
        "kmeanModel = KMeans(n_clusters=3).fit(inp)\n",
        "kmeanModel.fit(inp)\n",
        "print(kmeanModel.inertia_)"
      ]
    },
    {
      "cell_type": "code",
      "execution_count": null,
      "metadata": {
        "id": "GAi5nnV1yh0V",
        "outputId": "9829a296-52eb-4761-c36c-6e0419a08699"
      },
      "outputs": [
        {
          "data": {
            "text/html": [
              "<div>\n",
              "<style scoped>\n",
              "    .dataframe tbody tr th:only-of-type {\n",
              "        vertical-align: middle;\n",
              "    }\n",
              "\n",
              "    .dataframe tbody tr th {\n",
              "        vertical-align: top;\n",
              "    }\n",
              "\n",
              "    .dataframe thead th {\n",
              "        text-align: right;\n",
              "    }\n",
              "</style>\n",
              "<table border=\"1\" class=\"dataframe\">\n",
              "  <thead>\n",
              "    <tr style=\"text-align: right;\">\n",
              "      <th></th>\n",
              "      <th>country</th>\n",
              "      <th>alpha-2</th>\n",
              "      <th>alpha-3</th>\n",
              "      <th>continent</th>\n",
              "      <th>anthem</th>\n",
              "      <th>label</th>\n",
              "    </tr>\n",
              "  </thead>\n",
              "  <tbody>\n",
              "    <tr>\n",
              "      <th>0</th>\n",
              "      <td>Albania</td>\n",
              "      <td>AL</td>\n",
              "      <td>ALB</td>\n",
              "      <td>Europe</td>\n",
              "      <td>Around our flag we stand united, With one wish...</td>\n",
              "      <td>0</td>\n",
              "    </tr>\n",
              "    <tr>\n",
              "      <th>1</th>\n",
              "      <td>Armenia</td>\n",
              "      <td>AM</td>\n",
              "      <td>ARM</td>\n",
              "      <td>Europe</td>\n",
              "      <td>Our Fatherland, free, independent, That has fo...</td>\n",
              "      <td>0</td>\n",
              "    </tr>\n",
              "    <tr>\n",
              "      <th>2</th>\n",
              "      <td>Austria</td>\n",
              "      <td>AT</td>\n",
              "      <td>AUT</td>\n",
              "      <td>Europe</td>\n",
              "      <td>Land of mountains, land by the river, Land of ...</td>\n",
              "      <td>2</td>\n",
              "    </tr>\n",
              "    <tr>\n",
              "      <th>3</th>\n",
              "      <td>Azerbaijan</td>\n",
              "      <td>AZ</td>\n",
              "      <td>AZE</td>\n",
              "      <td>Europe</td>\n",
              "      <td>Azerbaijan, Azerbaijan! The glorious Fatherlan...</td>\n",
              "      <td>1</td>\n",
              "    </tr>\n",
              "    <tr>\n",
              "      <th>4</th>\n",
              "      <td>Belarus</td>\n",
              "      <td>BY</td>\n",
              "      <td>BLR</td>\n",
              "      <td>Europe</td>\n",
              "      <td>We, Belarusians, are peaceful people, Wholehea...</td>\n",
              "      <td>0</td>\n",
              "    </tr>\n",
              "  </tbody>\n",
              "</table>\n",
              "</div>"
            ],
            "text/plain": [
              "      country alpha-2 alpha-3 continent  \\\n",
              "0     Albania      AL     ALB    Europe   \n",
              "1     Armenia      AM     ARM    Europe   \n",
              "2     Austria      AT     AUT    Europe   \n",
              "3  Azerbaijan      AZ     AZE    Europe   \n",
              "4     Belarus      BY     BLR    Europe   \n",
              "\n",
              "                                              anthem  label  \n",
              "0  Around our flag we stand united, With one wish...      0  \n",
              "1  Our Fatherland, free, independent, That has fo...      0  \n",
              "2  Land of mountains, land by the river, Land of ...      2  \n",
              "3  Azerbaijan, Azerbaijan! The glorious Fatherlan...      1  \n",
              "4  We, Belarusians, are peaceful people, Wholehea...      0  "
            ]
          },
          "execution_count": 25,
          "metadata": {},
          "output_type": "execute_result"
        }
      ],
      "source": [
        "# Desired output of PART2\n",
        "d = data\n",
        "d['label'] = kmeanModel.labels_\n",
        "d.head()\n",
        "\n"
      ]
    },
    {
      "cell_type": "code",
      "execution_count": null,
      "metadata": {
        "id": "-tErNnmyyh0V",
        "outputId": "56e841d9-3bb2-41c1-ee9b-7ea532d811d9"
      },
      "outputs": [
        {
          "name": "stdout",
          "output_type": "stream",
          "text": [
            "range(1, 3)\n"
          ]
        }
      ],
      "source": []
    },
    {
      "cell_type": "code",
      "execution_count": null,
      "metadata": {
        "id": "aB58NoUzyh0W",
        "outputId": "cfbb9511-09f7-4189-e7e7-964630ed75c2"
      },
      "outputs": [
        {
          "name": "stdout",
          "output_type": "stream",
          "text": [
            "Intra cluster distances for cluster  0 =  1.3808725554654875\n",
            "Intra cluster distances for cluster  1 =  1.325883601925411\n",
            "Intra cluster distances for cluster  2 =  1.3792082162925008\n"
          ]
        }
      ],
      "source": [
        "#PART3\n",
        "# intra-cluster distances\n",
        "\n",
        "from sklearn.metrics.pairwise import pairwise_distances\n",
        "\n",
        "cl = kmeanModel.labels_\n",
        "intra = pairwise_distances(inp)\n",
        "\n",
        "for k in range(3):\n",
        "    dist = intra[cl == k][:,cl==k]\n",
        "    dist = dist[dist!=0].mean()\n",
        "    print(\"Intra cluster distances for cluster \", k, \"= \", dist)"
      ]
    },
    {
      "cell_type": "code",
      "source": [
        "#USE IF NEEDED\n",
        "# Assuming inp is your data and kmeanModel.labels_ contains cluster labels\n",
        "#silhouette_avg = silhouette_score(inp, kmeanModel.labels_)\n",
        "#print(\"Silhouette Score:\", silhouette_avg)"
      ],
      "metadata": {
        "id": "7gCpVW5GEMFM"
      },
      "execution_count": null,
      "outputs": []
    }
  ],
  "metadata": {
    "kernelspec": {
      "display_name": "Python 3 (ipykernel)",
      "language": "python",
      "name": "python3"
    },
    "language_info": {
      "codemirror_mode": {
        "name": "ipython",
        "version": 3
      },
      "file_extension": ".py",
      "mimetype": "text/x-python",
      "name": "python",
      "nbconvert_exporter": "python",
      "pygments_lexer": "ipython3",
      "version": "3.9.7"
    },
    "colab": {
      "provenance": []
    }
  },
  "nbformat": 4,
  "nbformat_minor": 0
}