{
  "nbformat": 4,
  "nbformat_minor": 0,
  "metadata": {
    "colab": {
      "provenance": []
    },
    "kernelspec": {
      "name": "python3",
      "display_name": "Python 3"
    },
    "language_info": {
      "name": "python"
    }
  },
  "cells": [
    {
      "cell_type": "code",
      "source": [
        "\n",
        "N = 8\n",
        "\n",
        "\n",
        "def printSolution(board):\n",
        "    for i in range(N):\n",
        "        for j in range(N):\n",
        "            print(board[i][j],end=',')\n",
        "        print ()\n",
        "\n",
        "\n",
        "\n",
        "\n",
        "# checking if 2 queens share same column\n",
        "\n",
        "def isSafe(board, row, col):\n",
        "    for i in range(row):\n",
        "        if board[i][col] == 1:\n",
        "            return False\n",
        "\n",
        "    for j in range(col):\n",
        "        if board[row][j] == 1:\n",
        "            return False\n",
        "\n",
        "# checking diagonal upper left side\n",
        "\n",
        "    (i, j) = (row, col)\n",
        "    while i >= 0 and j >= 0:\n",
        "        if board[i][j] == 1:\n",
        "            return False\n",
        "        i = i - 1\n",
        "        j = j - 1\n",
        "\n",
        "# checking diagonal upper right side\n",
        "\n",
        "    (i, j) = (row, col)\n",
        "    while i >= 0 and j < len(board):\n",
        "        if board[i][j] == 1:\n",
        "            return False\n",
        "        i = i - 1\n",
        "        j = j + 1\n",
        "    return True\n",
        "\n",
        "\n",
        "def solveNQUtil(board, col):\n",
        "\n",
        "\n",
        "    if col>=N:\n",
        "        return True\n",
        "\n",
        "\n",
        "    for i in range(N):\n",
        "\n",
        "        if isSafe(board, i, col):\n",
        "\n",
        "\n",
        "\n",
        "            board[i][col] = 1\n",
        "\n",
        "\n",
        "\n",
        "            if solveNQUtil(board, col + 1) == True:\n",
        "                return True\n",
        "\n",
        "\n",
        "\n",
        "            board[i][col] = 0\n",
        "\n",
        "\n",
        "    return False\n",
        "\n",
        "\n",
        "\n",
        "def solveNQ():\n",
        "    board = [[0, 0, 0, 0, 0, 0, 0, 0],\n",
        "             [0, 0, 0, 0, 0, 0, 0, 0],\n",
        "             [0, 0, 0, 0, 0, 0, 0, 0],\n",
        "             [0, 0, 0, 0, 0, 0, 0, 0],\n",
        "             [0, 0, 0, 0, 0, 0, 0, 0],\n",
        "             [0, 0, 0, 0, 0, 0, 0, 0],\n",
        "             [0, 0, 0, 0, 0, 0, 0, 0],\n",
        "             [0, 0, 0, 0, 0, 0, 0, 0]\n",
        "             ]\n",
        "\n",
        "    if solveNQUtil(board, 0) == False:\n",
        "        print ('Solution does not exist')\n",
        "        return False\n",
        "    else:\n",
        "     printSolution(board)\n",
        "     return True\n",
        "\n",
        "\n",
        "# driver program\n",
        "\n",
        "solveNQ()\n",
        "\n",
        "\n"
      ],
      "metadata": {
        "colab": {
          "base_uri": "https://localhost:8080/"
        },
        "id": "j0GBK5fE64FT",
        "outputId": "c36fcffe-be44-4e10-e764-863e97dc8b99"
      },
      "execution_count": null,
      "outputs": [
        {
          "output_type": "stream",
          "name": "stdout",
          "text": [
            "1,0,0,0,0,0,0,0,\n",
            "0,0,0,0,0,0,1,0,\n",
            "0,1,0,0,0,0,0,0,\n",
            "0,0,0,0,0,1,0,0,\n",
            "0,0,0,0,0,0,0,1,\n",
            "0,0,1,0,0,0,0,0,\n",
            "0,0,0,0,1,0,0,0,\n",
            "0,0,0,1,0,0,0,0,\n"
          ]
        },
        {
          "output_type": "execute_result",
          "data": {
            "text/plain": [
              "True"
            ]
          },
          "metadata": {},
          "execution_count": 13
        }
      ]
    },
    {
      "cell_type": "code",
      "source": [
        "#8 QUEENS\n",
        "N=8\n",
        "\n",
        "def printSolution(board):\n",
        "    for i in range(N):\n",
        "        for j in range(N):\n",
        "            print(board[i][j],end='')\n",
        "        print()\n",
        "\n",
        "def isSafe(board,row,column):\n",
        "    for i in range(row):\n",
        "        if board[i][column]==1:\n",
        "            return False\n",
        "    for j in range(column):\n",
        "        if board[row][j]==1:\n",
        "            return False\n",
        "    (i,j)=(row,column)\n",
        "    while i>=0 and j>=0:\n",
        "        if board[i][j]==1:\n",
        "            return False\n",
        "        i=i-1\n",
        "        j=j-1\n",
        "    (i,j)=(row,column)\n",
        "    while i>=0 and j<len(board):\n",
        "        if board[i][j]==1:\n",
        "            return False\n",
        "        i=i-1\n",
        "        j=j+1\n",
        "    return True\n",
        "\n",
        "def solveNQtil(board,column):\n",
        "    if column>=N:\n",
        "        return True\n",
        "    for i in range(N):\n",
        "        if isSafe(board,i,column):\n",
        "            board[i][column]=1\n",
        "\n",
        "            if solveNQtil(board,column+1)==True:\n",
        "                return True\n",
        "\n",
        "\n",
        "            board[i][column]=0\n",
        "\n",
        "    return False\n",
        "\n",
        "def solveNQ():\n",
        "    board=[[0,0,0,0,0,0,0,0],\n",
        "          [0,0,0,0,0,0,0,0],\n",
        "          [0,0,0,0,0,0,0,0],\n",
        "          [0,0,0,0,0,0,0,0],\n",
        "          [0,0,0,0,0,0,0,0],\n",
        "          [0,0,0,0,0,0,0,0],\n",
        "          [0,0,0,0,0,0,0,0],\n",
        "          [0,0,0,0,0,0,0,0]]\n",
        "    if solveNQtil(board,0)==False:\n",
        "        print('Solution does not exist')\n",
        "        return False\n",
        "    else:\n",
        "        printSolution(board)\n",
        "        return True\n",
        "\n",
        "\n",
        "solveNQ()"
      ],
      "metadata": {
        "colab": {
          "base_uri": "https://localhost:8080/"
        },
        "id": "Duvz63oxhCpf",
        "outputId": "560787eb-8e38-49b9-dfe3-4f1ac7ea55be"
      },
      "execution_count": null,
      "outputs": [
        {
          "output_type": "stream",
          "name": "stdout",
          "text": [
            "10000000\n",
            "00000010\n",
            "01000000\n",
            "00000100\n",
            "00000001\n",
            "00100000\n",
            "00001000\n",
            "00010000\n"
          ]
        },
        {
          "output_type": "execute_result",
          "data": {
            "text/plain": [
              "True"
            ]
          },
          "metadata": {},
          "execution_count": 2
        }
      ]
    }
  ]
}